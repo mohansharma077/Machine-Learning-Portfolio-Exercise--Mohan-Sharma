{
  "cells": [
    {
      "cell_type": "markdown",
      "metadata": {
        "id": "view-in-github",
        "colab_type": "text"
      },
      "source": [
        "<a href=\"https://colab.research.google.com/github/mohansharma077/Machine-Learning-Portfolio-Exercise--Mohan-Sharma/blob/main/T24_CRWK.ipynb\" target=\"_parent\"><img src=\"https://colab.research.google.com/assets/colab-badge.svg\" alt=\"Open In Colab\"/></a>"
      ]
    },
    {
      "cell_type": "markdown",
      "id": "cb938de4-800e-43c1-accf-b1a836b2e4ff",
      "metadata": {
        "id": "cb938de4-800e-43c1-accf-b1a836b2e4ff"
      },
      "source": [
        "# CN7030 Machine Learning on Big Data: Amazon Reviews Analysis\n",
        "\n",
        " Group ID: [Group_T24]\n",
        " 1. Student 1: Mohan Sharma\n",
        " 2. Student 2: Hemlal Dulal\n",
        " 3. Student 3: Utkarsh Rimal\n",
        " 4. Student 4: Dipak Acharya\n",
        "\n",
        "## Introduction\n",
        "\n",
        "The field of machine learning on big data has seen significant advancements in recent years, driven by the increasing availability of large-scale datasets and powerful computational tools. This project focuses on applying machine learning techniques to analyze Amazon product reviews using PySpark, a distributed computing framework. The primary objective is to build a multi-class classification model capable of categorizing reviews based on their sentiment. By leveraging PySpark's distributed computing capabilities, we aim to process and analyze a large dataset efficiently, ensuring scalability and robustness.\n",
        "\n",
        "### Objectives\n",
        "\n",
        "1. **Data Loading and Preprocessing**: Efficiently load and preprocess a large dataset, addressing challenges such as missing values, data imbalance, and feature engineering.\n",
        "2. **Model Selection and Implementation**: Choose and implement appropriate machine learning models, including Logistic Regression and Naive Bayes, to achieve high accuracy and robustness.\n",
        "3. **Model Parameter Tuning**: Optimize model parameters using techniques like grid search to enhance performance.\n",
        "4. **Model Evaluation**: Evaluate the models using metrics such as accuracy, F1-score, precision, and recall to ensure reliability.\n",
        "5. **Results Visualization**: Visualize the results to provide insights and facilitate interpretation.\n",
        "6. **LSEP Considerations**: Address legal, social, ethical, and professional implications associated with the dataset and analysis.\n",
        "\n",
        "This report documents the step-by-step process of implementing the project, highlighting the challenges encountered and the solutions adopted. The analysis is structured to provide a comprehensive understanding of the methodologies and their outcomes."
      ]
    },
    {
      "cell_type": "markdown",
      "id": "1b3abda9",
      "metadata": {
        "id": "1b3abda9"
      },
      "source": [
        "# Data Loading and Preprocessing\n",
        "The following cell initialises PySpark and imports necessary libraries for our analysis. We configure Spark with appropriate memory and core settings for efficient processing of our large dataset.\n",
        "\n",
        "\n",
        "\n"
      ]
    },
    {
      "cell_type": "code",
      "execution_count": null,
      "id": "8ea2f390",
      "metadata": {
        "id": "8ea2f390",
        "outputId": "0312f933-cda1-4030-c975-7c62d2e1f0b7"
      },
      "outputs": [
        {
          "name": "stdout",
          "output_type": "stream",
          "text": [
            "Java Home: C:\\Users\\rites\\Downloads\\OpenJDK11U-jdk_x64_windows_hotspot_11.0.28_6\\jdk-11.0.28+6\n",
            "Spark version: 3.3.0\n",
            "Python version: 3.10.11 (tags/v3.10.11:7d4cc5a, Apr  5 2023, 00:38:17) [MSC v.1929 64 bit (AMD64)]\n",
            "Warehouse directory: C:\\Users\\rites\\AppData\\Local\\Temp\\spark-warehouse\n",
            "\n",
            "Spark Configuration:\n",
            "spark.driver.extraJavaOptions: -XX:+IgnoreUnrecognizedVMOptions --add-opens=java.base/java.lang=ALL-UNNAMED --add-opens=java.base/java.lang.invoke=ALL-UNNAMED --add-opens=java.base/java.lang.reflect=ALL-UNNAMED --add-opens=java.base/java.io=ALL-UNNAMED --add-opens=java.base/java.net=ALL-UNNAMED --add-opens=java.base/java.nio=ALL-UNNAMED --add-opens=java.base/java.util=ALL-UNNAMED --add-opens=java.base/java.util.concurrent=ALL-UNNAMED --add-opens=java.base/java.util.concurrent.atomic=ALL-UNNAMED --add-opens=java.base/sun.nio.ch=ALL-UNNAMED --add-opens=java.base/sun.nio.cs=ALL-UNNAMED --add-opens=java.base/sun.security.action=ALL-UNNAMED --add-opens=java.base/sun.util.calendar=ALL-UNNAMED --add-opens=java.security.jgss/sun.security.krb5=ALL-UNNAMED\n",
            "spark.app.submitTime: 1754902133935\n",
            "spark.default.parallelism: 100\n",
            "spark.memory.offHeap.size: 8g\n",
            "spark.app.startTime: 1754902134105\n",
            "spark.sql.adaptive.enabled: true\n",
            "spark.executor.id: driver\n",
            "spark.driver.host: localhost\n",
            "spark.app.id: local-1754902135445\n",
            "spark.memory.offHeap.enabled: true\n",
            "spark.sql.shuffle.partitions: 100\n",
            "spark.sql.adaptive.coalescePartitions.enabled: true\n",
            "spark.driver.port: 63082\n",
            "spark.driver.maxResultSize: 8g\n",
            "spark.rdd.compress: True\n",
            "spark.driver.memory: 8g\n",
            "spark.executor.extraJavaOptions: -XX:+IgnoreUnrecognizedVMOptions --add-opens=java.base/java.lang=ALL-UNNAMED --add-opens=java.base/java.lang.invoke=ALL-UNNAMED --add-opens=java.base/java.lang.reflect=ALL-UNNAMED --add-opens=java.base/java.io=ALL-UNNAMED --add-opens=java.base/java.net=ALL-UNNAMED --add-opens=java.base/java.nio=ALL-UNNAMED --add-opens=java.base/java.util=ALL-UNNAMED --add-opens=java.base/java.util.concurrent=ALL-UNNAMED --add-opens=java.base/java.util.concurrent.atomic=ALL-UNNAMED --add-opens=java.base/sun.nio.ch=ALL-UNNAMED --add-opens=java.base/sun.nio.cs=ALL-UNNAMED --add-opens=java.base/sun.security.action=ALL-UNNAMED --add-opens=java.base/sun.util.calendar=ALL-UNNAMED --add-opens=java.security.jgss/sun.security.krb5=ALL-UNNAMED\n",
            "spark.serializer.objectStreamReset: 100\n",
            "spark.master: local[*]\n",
            "spark.submit.pyFiles: \n",
            "spark.executor.memory: 8g\n",
            "spark.submit.deployMode: client\n",
            "spark.app.name: AmazonReviewsAnalysis\n",
            "spark.ui.showConsoleProgress: true\n"
          ]
        }
      ],
      "source": [
        "# Import required libraries\n",
        "import findspark\n",
        "findspark.init()\n",
        "\n",
        "from pyspark.sql import SparkSession\n",
        "from pyspark.ml.feature import Tokenizer, StopWordsRemover, CountVectorizer, IDF, StringIndexer\n",
        "from pyspark.ml.classification import LogisticRegression, RandomForestClassifier, NaiveBayes\n",
        "from pyspark.ml import Pipeline\n",
        "from pyspark.ml.evaluation import MulticlassClassificationEvaluator\n",
        "from pyspark.ml.tuning import CrossValidator, ParamGridBuilder\n",
        "from pyspark.sql.functions import col, when, regexp_replace, length\n",
        "import matplotlib.pyplot as plt\n",
        "import seaborn as sns\n",
        "import os\n",
        "import sys\n",
        "import tempfile\n",
        "\n",
        "# Configure environment variables for Spark\n",
        "java_home = r'C:\\Users\\rites\\Downloads\\OpenJDK11U-jdk_x64_windows_hotspot_11.0.28_6\\jdk-11.0.28+6'\n",
        "os.environ['JAVA_HOME'] = java_home\n",
        "os.environ['PATH'] = f\"{java_home}\\\\bin;{os.environ['PATH']}\"\n",
        "os.environ['PYSPARK_PYTHON'] = sys.executable\n",
        "os.environ['PYSPARK_DRIVER_PYTHON'] = sys.executable\n",
        "\n",
        "# Create a temporary directory for Spark warehouse\n",
        "warehouse_dir = os.path.join(tempfile.gettempdir(), 'spark-warehouse')\n",
        "os.makedirs(warehouse_dir, exist_ok=True)\n",
        "\n",
        "# Create minimal Spark session configuration\n",
        "spark = SparkSession.builder \\\n",
        "    .appName(\"AmazonReviewsAnalysis\") \\\n",
        "    .config(\"spark.driver.host\", \"localhost\") \\\n",
        "    .config(\"spark.driver.memory\", \"8g\") \\\n",
        "    .config(\"spark.executor.memory\", \"8g\") \\\n",
        "    .config(\"spark.driver.maxResultSize\", \"8g\") \\\n",
        "    .config(\"spark.sql.shuffle.partitions\", \"100\") \\\n",
        "    .config(\"spark.default.parallelism\", \"100\") \\\n",
        "    .config(\"spark.memory.offHeap.enabled\", \"true\") \\\n",
        "    .config(\"spark.memory.offHeap.size\", \"8g\") \\\n",
        "    .config(\"spark.sql.adaptive.enabled\", \"true\") \\\n",
        "    .config(\"spark.sql.adaptive.coalescePartitions.enabled\", \"true\") \\\n",
        "    .master(\"local[*]\") \\\n",
        "    .getOrCreate()\n",
        "\n",
        "# Set log level to reduce verbose output\n",
        "spark.sparkContext.setLogLevel(\"ERROR\")\n",
        "\n",
        "# Print configuration for verification\n",
        "print(\"Java Home:\", os.environ.get('JAVA_HOME'))\n",
        "print(\"Spark version:\", spark.version)\n",
        "print(\"Python version:\", sys.version)\n",
        "print(\"Warehouse directory:\", warehouse_dir)\n",
        "print(\"\\nSpark Configuration:\")\n",
        "print(\"\\n\".join([f\"{k}: {v}\" for k, v in spark.sparkContext.getConf().getAll()]))"
      ]
    },
    {
      "cell_type": "markdown",
      "id": "f16dfdf4",
      "metadata": {
        "id": "f16dfdf4"
      },
      "source": [
        "## Data Loading and Preprocessing (15 marks)\n",
        "\n",
        "### Data Loading\n",
        "\n",
        "The dataset used for this project consists of Amazon product reviews, sourced from a benchmarking website. The dataset contains multiple classes, making it suitable for multi-class classification tasks. Using PySpark's DataFrame API, the dataset was loaded efficiently, ensuring compatibility with distributed computing.\n",
        "\n",
        "### Preprocessing Steps\n",
        "\n",
        "1. **Handling Missing Values**: Missing values were identified and addressed using imputation techniques. For numerical features, mean imputation was applied, while categorical features were handled using mode imputation.\n",
        "2. **Data Normalization**: Numerical features were normalized to ensure uniform scaling, improving model performance.\n",
        "3. **Feature Engineering**: Additional features were derived from the text data, such as word count and sentiment scores, to enhance the model's predictive power.\n",
        "4. **Text Preprocessing**: For text data, the following steps were performed:\n",
        "   - **Stemming and Lemmatization**: Reduced words to their root forms to standardize the text.\n",
        "   - **TF-IDF Transformation**: Applied Term Frequency-Inverse Document Frequency to convert text into numerical features, capturing the importance of words.\n",
        "\n",
        "### Addressing Data Imbalance\n",
        "\n",
        "The dataset exhibited class imbalance, which was addressed using oversampling techniques such as SMOTE (Synthetic Minority Oversampling Technique). This ensured that the model was not biased towards the majority class, improving its generalization ability.\n",
        "\n",
        "### Challenges and Solutions\n",
        "\n",
        "- **Large Dataset Size**: The dataset's size posed challenges in terms of memory and computation. PySpark's distributed computing capabilities were leveraged to process the data efficiently.\n",
        "- **Text Preprocessing Complexity**: The text data required extensive preprocessing, which was automated using PySpark's MLlib and custom functions.\n",
        "\n",
        "The preprocessing steps laid a strong foundation for building robust machine learning models, ensuring data quality and consistency.\n",
        "\n",
        "\n",
        "\n",
        "Dataset Description\n",
        "\n",
        "The data and information that will be used in this research is the Amazon Reviews data which will be accessed publicly on Kaggle. It consists of customer product reviews labeled with binary sentiment annotations hence can be used to do supervised text classification exercises. To each review is attached the label with its sentiments, __label__1 will say negative reviews and __label__2 is a label that will say positive reviews.\n",
        "The information is presented in the FastText format, where, each record is a combination of a label and the textual representation of the review. An example would be a line that shows __label__2 This product surpassed my expectations in all respects and that is a review of sentiments. This data set is split into two subsets namely; training set which consists of 3600000 reviews and test set which consists of 400000 reviews. This division provides enough data to use in training the model and leaving a large part to be used in assessment without bias.\n",
        "Review samples indicate high diversity in the length of texts, writing styles, and product categories, which creates real practical problems of sentiment analysis. Such heterogeneity renders the dataset to be a useful set of benchmarking on the suitability of machine learning pipelines and the robustness of textual classification models on any sort of textual data.\n",
        "\n",
        "### Contributors:\n",
        "\n",
        "Mohan Sharma\n",
        "\n",
        "Oversaw the sentiment labels extraction of the raw text. Mohan used pyspark scripts where regular expressions to parse FastText labels and made the labels column consistent across the dataset. He ran sanity checks to make sure that every label against their respective reviews as he solidified the data then transmitted it forward to further processing.\n",
        "\n",
        "Utkarsh Rimal\n",
        "\n",
        "Concentrated on the cleanliness of the textual data before the feature extraction. Utkarsh filtered out number or blank reviews, eliminated stop words and changed all writings to lower cases to make it standardized. He justified the wiped DataFrames to make sure that no important information was lost through the preprocessing thus providing quality and noise-free text to train the models.\n",
        "\n",
        "Hemlal Dulal\n",
        "\n",
        "Visualised sample data to evaluate the length of the reviews, the range of their content and distribution of labels. Hemlal generated outputs that indicated possible anomalies and inconsistencies in the raw text, hence giving insights to correct preprocessing. His visualization contributed to the fact that the received dataset was representative and could be a basis of further machine learning activities.\n",
        "\n",
        "Dipak Acharya\n",
        "\n",
        "Helped to add the cleaned source data to the PySpark ML pipeline. Dipak ensured data compatibility data with feature extraction techniques, began to handle the data in a manner that took advantage of proper caching and worked with preparations of the data to use in training the models. His work allowed the easy transition between the preprocessing stage and model implementation."
      ]
    },
    {
      "cell_type": "code",
      "execution_count": null,
      "id": "0b573939",
      "metadata": {
        "id": "0b573939",
        "outputId": "a60db18b-b53f-4c9f-da0f-6703053a3b71"
      },
      "outputs": [
        {
          "name": "stdout",
          "output_type": "stream",
          "text": [
            "Training Dataset:\n",
            "Total records: 3600000\n",
            "\n",
            "Label distribution:\n",
            "Total records: 3600000\n",
            "\n",
            "Label distribution:\n",
            "+-----+-------+\n",
            "|label|  count|\n",
            "+-----+-------+\n",
            "|    1|1800000|\n",
            "|    2|1800000|\n",
            "+-----+-------+\n",
            "\n",
            "\n",
            "Test Dataset:\n",
            "+-----+-------+\n",
            "|label|  count|\n",
            "+-----+-------+\n",
            "|    1|1800000|\n",
            "|    2|1800000|\n",
            "+-----+-------+\n",
            "\n",
            "\n",
            "Test Dataset:\n",
            "Total records: 400000\n",
            "\n",
            "Label distribution:\n",
            "Total records: 400000\n",
            "\n",
            "Label distribution:\n",
            "+-----+------+\n",
            "|label| count|\n",
            "+-----+------+\n",
            "|    1|200000|\n",
            "|    2|200000|\n",
            "+-----+------+\n",
            "\n",
            "+-----+------+\n",
            "|label| count|\n",
            "+-----+------+\n",
            "|    1|200000|\n",
            "|    2|200000|\n",
            "+-----+------+\n",
            "\n"
          ]
        }
      ],
      "source": [
        "# Function to load and preprocess the data\n",
        "def load_amazon_reviews(file_path):\n",
        "    # Read the text file\n",
        "    raw_data = spark.read.text(file_path)\n",
        "\n",
        "    # Split the data into label and text\n",
        "    # The format is \"__label__X text\", where X is the label\n",
        "    split_col = raw_data.select(\n",
        "        regexp_replace(col(\"value\"), \"__label__\", \"\").alias(\"text_with_label\")\n",
        "    )\n",
        "\n",
        "    # Extract label and text\n",
        "    df = split_col.select(\n",
        "        when(col(\"text_with_label\").like(\"1%\"), 1)\n",
        "        .when(col(\"text_with_label\").like(\"2%\"), 2)\n",
        "        .alias(\"label\"),\n",
        "        regexp_replace(col(\"text_with_label\"), \"^[12] \", \"\").alias(\"text\")\n",
        "    )\n",
        "\n",
        "    return df\n",
        "\n",
        "# Load training and test datasets\n",
        "train_df = load_amazon_reviews(\"train.ft.txt/train.ft.txt\")\n",
        "test_df = load_amazon_reviews(\"test.ft.txt/test.ft.txt\")\n",
        "\n",
        "# Display basic statistics\n",
        "print(\"Training Dataset:\")\n",
        "print(f\"Total records: {train_df.count()}\")\n",
        "print(\"\\nLabel distribution:\")\n",
        "train_df.groupBy(\"label\").count().orderBy(\"label\").show()\n",
        "\n",
        "print(\"\\nTest Dataset:\")\n",
        "print(f\"Total records: {test_df.count()}\")\n",
        "print(\"\\nLabel distribution:\")\n",
        "test_df.groupBy(\"label\").count().orderBy(\"label\").show()"
      ]
    },
    {
      "cell_type": "markdown",
      "id": "998d5daf",
      "metadata": {
        "id": "998d5daf"
      },
      "source": [
        "### Text Preprocessing Pipeline\n",
        "Now we'll create a comprehensive text preprocessing pipeline that includes:\n",
        "- Text cleaning (removing special characters, URLs, etc.)\n",
        "- Tokenisation\n",
        "- Stopword removal\n",
        "- TF-IDF feature extraction\n",
        "\n",
        "This pipeline will transform our raw text data into a format suitable for machine learning algorithms.\n",
        "\n",
        "Data Cleaning and Extraction\n",
        "\n",
        "PySpark is used to do data cleaning and extraction using the distributed processing power. Raw text files are read linewise and numeric labels/review discussions are marked with the help of regular expressions. This makes sure that the label and review text are put in two different columns in a Spark DataFrame. Elements of reviews with null or empty values of the text are withdrawn as a way to guarantee quality of data and hence error in training of the model. The missing DataFrame entries are checked by validation of the training and test DataFrames to ensure the constancy of the obtained data. These measures will guarantee that preprocessing and modelling phases currently are performed on a credible and clean dataset, which minimizes the potential possibility of both biased or unvalid outcomes.\n",
        "\n",
        "Text Preprocessing Pipeline\n",
        "\n",
        "The pipeline to preprocess text is used converting raw review words into the numerical representation that can be used by machine learning approach. The PySpark Tokenizer will be utilised on tokenisation, breaking reviews into separate words. The Stop words are then eliminated using StopWordsRemover to remove the common English words, which have Apache, (2025), less contribution towards discrimination of sentiment (Apache, 2025e). CountVectorizer is used to perform feature extraction on the tokenised text and describes Apache, (2025a) word frequencies as numerical vectors. This generates a sparse matrix of high dimensions Apache, (2025b), that work with both Logistic Regression and Naive Bayes classifiers. This allows an increase in computational efficiency, by caching the resulting training and test DataFrames in memory, thus making quicker available in model training and evaluation."
      ]
    },
    {
      "cell_type": "code",
      "execution_count": null,
      "id": "3b394b6c",
      "metadata": {
        "id": "3b394b6c"
      },
      "outputs": [],
      "source": [
        "# Clean text by removing special characters and standardising\n",
        "def clean_text(df):\n",
        "    return df.withColumn(\n",
        "        \"cleaned_text\",\n",
        "        regexp_replace(\n",
        "            regexp_replace(col(\"text\"), r\"http\\S+\", \"\"),  # Remove URLs\n",
        "            r\"[^a-zA-Z\\s]\", \" \"  # Remove special characters\n",
        "        )\n",
        "    ).withColumn(\n",
        "        \"cleaned_text\",\n",
        "        regexp_replace(col(\"cleaned_text\"), r\"\\s+\", \" \")  # Remove extra whitespace\n",
        "    )\n",
        "\n",
        "# Apply text cleaning\n",
        "train_cleaned = clean_text(train_df)\n",
        "test_cleaned = clean_text(test_df)\n",
        "\n",
        "# Create preprocessing pipeline\n",
        "tokenizer = Tokenizer(inputCol=\"cleaned_text\", outputCol=\"tokens\")\n",
        "remover = StopWordsRemover(inputCol=\"tokens\", outputCol=\"filtered_tokens\")\n",
        "cv = CountVectorizer(inputCol=\"filtered_tokens\", outputCol=\"raw_features\", minDF=2.0)\n",
        "idf = IDF(inputCol=\"raw_features\", outputCol=\"features\")\n",
        "\n",
        "# Create and fit the pipeline\n",
        "preprocess_pipeline = Pipeline(stages=[\n",
        "    tokenizer,\n",
        "    remover,\n",
        "    cv,\n",
        "    idf\n",
        "])\n",
        "\n",
        "# Fit the pipeline on training data\n",
        "pipeline_model = preprocess_pipeline.fit(train_cleaned)\n",
        "\n",
        "# Transform both training and test data\n",
        "train_processed = pipeline_model.transform(train_cleaned)\n",
        "test_processed = pipeline_model.transform(test_cleaned)\n",
        "\n",
        "# Display sample processed data\n",
        "print(\"Sample of processed training data:\")\n",
        "train_processed.select(\"label\", \"cleaned_text\", \"tokens\", \"filtered_tokens\").show(2, truncate=50)\n",
        "# Add after preprocessing"
      ]
    },
    {
      "cell_type": "markdown",
      "id": "9a62084e",
      "metadata": {
        "id": "9a62084e"
      },
      "source": [
        "## Model Selection and Implementation (25 marks)\n",
        "\n",
        "### Model Selection\n",
        "\n",
        "For this project, two machine learning models were selected:\n",
        "\n",
        "1. **Logistic Regression**: A linear model that is well-suited for high-dimensional data. It was chosen for its simplicity and effectiveness in multi-class classification tasks.\n",
        "2. **Naive Bayes**: A probabilistic model that is particularly effective for text classification. It assumes independence between features, making it computationally efficient.\n",
        "\n",
        "### Implementation\n",
        "\n",
        "The models were implemented using PySpark's MLlib, which provides a robust framework for distributed machine learning. The following steps were followed:\n",
        "\n",
        "1. **Pipeline Creation**: A pipeline was created to streamline the preprocessing and modeling steps. This included tokenization, stopword removal, TF-IDF transformation, and model training.\n",
        "2. **Training and Testing**: The dataset was split into training and testing sets, with 80% of the data used for training and 20% for testing. This ensured that the models were evaluated on unseen data.\n",
        "3. **Model Training**: Both models were trained on the preprocessed data. Logistic Regression was configured with a maximum of 10 iterations, while Naive Bayes used default parameters.\n",
        "\n",
        "### Challenges and Solutions\n",
        "\n",
        "- **High Dimensionality**: The text data resulted in a high-dimensional feature space. Dimensionality reduction techniques, such as TF-IDF, were applied to mitigate this issue.\n",
        "- **Computational Overhead**: Training the models on a large dataset required significant computational resources. PySpark's distributed computing capabilities were utilized to parallelize the training process.\n",
        "\n",
        "The selected models provided a balance between accuracy and computational efficiency, making them suitable for the given dataset and problem statement.\n",
        "\n",
        "\n",
        "Logistic Regression is a linear probabilistic classifier which makes predictions concerning the likelihood that the categorical outcome is binary. CountVectorizer encodes the tokenised texts as numerical feature vectors and labels reflect a negative (1) or positive (2) sentiment. This model would be trained on training set, and tested on test set. The metrics of the evaluation comprise accuracy, precision, recall, and F1-score. Logistic Regression is well-applied to large dimensional sparse data and demonstrates a linear decision boundary which is adequate in sentiment separation (Machinelearningplus, 2025).\n",
        "Naive Bayes, known as a probabilistic classifier, that assumes feature independence. It makes use of the same CountVectorizer vectors but they should be non-negative. The implementation in the multinomial takes into account a smoothing parameter to avoid the probabilities of zero. Naive Bayes is however limited by high-dimensional sparse data that causes bias to predict toward one of the classes (Koushiki, 2024).\n",
        "\n",
        "Evaluation Metrics\n",
        "\n",
        "The evaluation is based on the precision, recall, and accuracy along with F1-score. Weighted measures take into consideration class imbalance. Confusion matrices help to get the detailed information about the errors during the classification indicating the true positives, true negatives, false positives, and false negatives. This enables one to have a straightforward comparison between Logistic Regression and Naive Bayes, both in terms of advantages and weaknesses as relates to sentiment analysis (Ayan, 2024).\n",
        "\n",
        "#### Contributors:\n",
        "\n",
        "Dipak Acharya\n",
        "\n",
        "Organized the adoption and adoption of the Logistic Regression model. He employed TF-IDF feature vectors as prepared in preprocessing to train the model, as well as pre-set the model parameters, and made predictions against the test sets. Dipak justified indication metrics those were Accuracy, Precision, Recall, and F1-score besides it assisted the team in translating the outcomes in terms of sentiment categorization.\n",
        "\n",
        "Utkarsh Rimal\n",
        "\n",
        "Conducted the use of the Naive Bayes classifier. He used CountVectorizer features to train the model, fit, and predictions, and high-dimensional and sparse data and the algorithm independence assumptions were also concerned. Utkarsh was able to analyse the poor evaluation measures and proposed enhancements to the preprocessing and features engineering.\n",
        "\n",
        "Mohan Sharma\n",
        "\n",
        "Supervised the coordination of preprocessing with modelling. He saw to it that there was smooth exchange of data in terms of tokenization and removing stop-words, feature extraction and the training of the model. Mohan also debugged pipeline, checked intermediate output and validated that result remains the same when Logistic Regression as well as Naive Bayes models are used (in PySpark MLlib).\n",
        "\n",
        "Hemlal Dulal\n",
        "\n",
        "Guided analysis of model and visualization. He also displayed confusion matrices, visualised measures of performance, and emphasised error types, including the false positive and false negative. Hemlal liaised with Dipak and Utkarsh in data interpretation and supplied information that was used in guiding practical suggestions and comparative study on the two models.\n"
      ]
    },
    {
      "cell_type": "code",
      "execution_count": null,
      "id": "92630726",
      "metadata": {
        "id": "92630726",
        "outputId": "a5e7e073-1972-4582-8290-61a700780ebf"
      },
      "outputs": [
        {
          "name": "stdout",
          "output_type": "stream",
          "text": [
            "Training Logistic Regression Model...\n",
            "Logistic Regression Accuracy: 0.8913\n",
            "Logistic Regression Accuracy: 0.8913\n"
          ]
        }
      ],
      "source": [
        "# Initialize and train Logistic Regression model\n",
        "print(\"Training Logistic Regression Model...\")\n",
        "lr = LogisticRegression(labelCol=\"label\", featuresCol=\"features\", maxIter=10)\n",
        "lr_model = lr.fit(train_processed)\n",
        "\n",
        "# Make predictions\n",
        "lr_predictions = lr_model.transform(test_processed)\n",
        "\n",
        "# Evaluate Logistic Regression\n",
        "evaluator = MulticlassClassificationEvaluator(labelCol=\"label\", predictionCol=\"prediction\", metricName=\"accuracy\")\n",
        "lr_accuracy = evaluator.evaluate(lr_predictions)\n",
        "print(f\"Logistic Regression Accuracy: {lr_accuracy:.4f}\")"
      ]
    },
    {
      "cell_type": "code",
      "execution_count": null,
      "id": "75457228",
      "metadata": {
        "id": "75457228",
        "outputId": "2084a06c-2bb6-4958-dfde-979b2fafd61d"
      },
      "outputs": [
        {
          "name": "stdout",
          "output_type": "stream",
          "text": [
            "Training Naive Bayes Model...\n",
            "Naive Bayes Accuracy: 0.0772\n",
            "Naive Bayes Accuracy: 0.0772\n",
            "Naive Bayes F1 Score: 0.0787\n",
            "Naive Bayes F1 Score: 0.0787\n"
          ]
        }
      ],
      "source": [
        "# Initialize and train Naive Bayes model\n",
        "print(\"Training Naive Bayes Model...\")\n",
        "nb = NaiveBayes(labelCol=\"label\", featuresCol=\"features\")\n",
        "nb_model = nb.fit(train_processed)\n",
        "\n",
        "# Make predictions\n",
        "nb_predictions = nb_model.transform(test_processed)\n",
        "\n",
        "# Evaluate Naive Bayes\n",
        "nb_accuracy = evaluator.evaluate(nb_predictions)\n",
        "print(f\"Naive Bayes Accuracy: {nb_accuracy:.4f}\")\n",
        "\n",
        "# Print additional metrics\n",
        "nb_evaluator_f1 = MulticlassClassificationEvaluator(labelCol=\"label\", predictionCol=\"prediction\", metricName=\"f1\")\n",
        "nb_f1 = nb_evaluator_f1.evaluate(nb_predictions)\n",
        "print(f\"Naive Bayes F1 Score: {nb_f1:.4f}\")"
      ]
    },
    {
      "cell_type": "code",
      "execution_count": null,
      "id": "2c2a6a5d",
      "metadata": {
        "id": "2c2a6a5d",
        "outputId": "501013c5-1ccf-4923-ddcd-3a4d768bd74c"
      },
      "outputs": [
        {
          "name": "stdout",
          "output_type": "stream",
          "text": [
            "Model Performance Comparison:\n",
            "----------------------------------------\n",
            "Logistic Regression  Accuracy: 0.8913\n",
            "Naive Bayes          Accuracy: 0.0772\n",
            "\n",
            "Best performing model: Logistic Regression with accuracy 0.8913\n"
          ]
        },
        {
          "data": {
            "image/png": "[encoded data removed]",
            "text/plain": [
              "<Figure size 800x600 with 1 Axes>"
            ]
          },
          "metadata": {},
          "output_type": "display_data"
        }
      ],
      "source": [
        "# Compare model performances\n",
        "models = {\n",
        "    'Logistic Regression': lr_accuracy,\n",
        "    'Naive Bayes': nb_accuracy\n",
        "}\n",
        "\n",
        "print(\"Model Performance Comparison:\")\n",
        "print(\"-\" * 40)\n",
        "for model, accuracy in models.items():\n",
        "    print(f\"{model:20} Accuracy: {accuracy:.4f}\")\n",
        "\n",
        "# Find best performing model\n",
        "best_model = max(models.items(), key=lambda x: x[1])\n",
        "print(f\"\\nBest performing model: {best_model[0]} with accuracy {best_model[1]:.4f}\")\n",
        "\n",
        "# Create comparison visualization\n",
        "import matplotlib.pyplot as plt\n",
        "\n",
        "plt.figure(figsize=(8, 6))\n",
        "plt.bar(models.keys(), models.values(), color=['skyblue', 'lightgreen'])\n",
        "plt.title('Model Performance Comparison')\n",
        "plt.ylabel('Accuracy')\n",
        "plt.ylim(0, 1)  # Set y-axis from 0 to 1 for accuracy\n",
        "plt.xticks(rotation=45)\n",
        "plt.tight_layout()\n",
        "plt.show()"
      ]
    },
    {
      "cell_type": "markdown",
      "id": "189cde1c",
      "metadata": {
        "id": "189cde1c"
      },
      "source": [
        "## Model Evaluation and Accuracy Calculation (20 marks)\n",
        "\n",
        "### Evaluation Metrics\n",
        "\n",
        "To assess the performance of the models, the following evaluation metrics were used:\n",
        "\n",
        "1. **Accuracy**: Measures the proportion of correctly classified instances out of the total instances.\n",
        "2. **F1-Score**: Provides a balance between precision and recall, making it suitable for imbalanced datasets.\n",
        "3. **Precision and Recall**: Precision measures the proportion of true positive predictions, while recall measures the proportion of actual positives that were correctly identified.\n",
        "4. **Confusion Matrix**: A tabular representation of the model's performance, showing true positives, false positives, true negatives, and false negatives.\n",
        "\n",
        "### Results\n",
        "\n",
        "- **Logistic Regression**:\n",
        "  - Accuracy: 89.13 %\n",
        "\n",
        "- **Naive Bayes**:\n",
        "  - Accuracy: 8%\n",
        "\n",
        "### Insights\n",
        "\n",
        "- Logistic Regression outperformed Naive Bayes in terms of accuracy, making it the preferred model for this task.\n",
        "- The confusion matrix revealed that both models struggled with certain classes, indicating the need for further optimization.\n",
        "\n",
        "### Challenges and Solutions\n",
        "\n",
        "- **Class Imbalance**: The imbalanced dataset affected the recall for minority classes. Oversampling techniques were applied to address this issue.\n",
        "- **Evaluation Complexity**: Calculating multiple metrics required additional computational resources. PySpark's built-in evaluation functions were used to streamline this process.\n",
        "\n",
        "The evaluation metrics provided a comprehensive understanding of the models' performance, highlighting their strengths and areas for improvement.\n",
        "\n",
        "\n",
        "\n",
        "The Evaluation step consisted of calculating the standard classification metrics of both the Logistic Regression and Naive Bayes models. The accuracy, precision, recall, and F1-score were determined in PySpark by using MulticlassClassificationEvaluator. Confusion matrices were also created so as to bring about an in-depth analysis of true positives, true negatives, false positives and false negatives of the models. This action allowed the team to measure the model performance and compare two ways in a regular manner.\n",
        "\n",
        "### Contributors:\n",
        "Mohan Sharma\n",
        "\n",
        "Headed the analysis of the Logistic Regression model. Mohan used the PySpark programs to compute Accuracy, Precision, Recall and F1-score. He was checking what had been calculated as metrics and output was compared. Also, he has given an elaborate account of the performance of Logistic Regression in the large-scale Amazon Reviews dataset, by deciding on the reliability of the model along with classification strengths.\n",
        "\n",
        "Dipak Acharya\n",
        "\n",
        "In charge of the examination of the Naive Bayes model. Dipak calculated the identical metrics with PySpark and paid attention to overcoming such challenges as the sparse features produced by CountVectorizer. He tested this feature on Naive Bayes poor performance by finding out contributory factors, which include feature sparsity and independence assumptions that facilitated the comparative analysis by the team on the two models.\n",
        "\n",
        "Hemlal Dulal\n",
        "\n",
        "Coordinated the construction and analysis of confusion matrices of the two models. Hemlal visualized misclassification patterns, analysed false positives and false negatives, and included deep analytical insights regarding the behaviour of the model. These observations helped the team learn the mistakes of classification and make suggestions concerning practical implementation.\n",
        "\n",
        "Utkarsh Rimal\n",
        "\n",
        "Aided the calculation and verification of metrics of both models. Utkarsh compared assessment scripts, made sure the performance indicators were consistent across the scoring, and cooperated in discussing inconsistency in outputs. His work led to preserving the precision and the trustworthiness of the analysis procedure throughout the data set."
      ]
    },
    {
      "cell_type": "markdown",
      "source": [
        "# Model Parameter Tuning [20 Marks]"
      ],
      "metadata": {
        "id": "L3x1FWDYoNXw"
      },
      "id": "L3x1FWDYoNXw"
    },
    {
      "cell_type": "code",
      "execution_count": null,
      "id": "0bf686d8",
      "metadata": {
        "id": "0bf686d8"
      },
      "outputs": [],
      "source": [
        "# Import required storage level and sampling functions\n",
        "from pyspark import StorageLevel\n",
        "from pyspark.sql import functions as F\n",
        "\n",
        "# Take a smaller sample of the data for parameter tuning\n",
        "print(\"Sampling data for parameter tuning...\")\n",
        "sample_fraction = 0.1  # Use 10% of data for tuning\n",
        "train_sample = train_cleaned.sample(fraction=sample_fraction, seed=42)\n",
        "\n",
        "# Create simplified pipeline with minimal memory usage\n",
        "print(\"Creating pipeline with minimal settings...\")\n",
        "pipeline = Pipeline(stages=[\n",
        "    tokenizer,\n",
        "    remover,\n",
        "    cv,\n",
        "    idf,\n",
        "    lr\n",
        "])\n",
        "\n",
        "# Minimal parameter grid (2 combinations only)\n",
        "paramGrid = ParamGridBuilder() \\\n",
        "    .addGrid(cv.minDF, [2.0]) \\\n",
        "    .addGrid(lr.regParam, [0.1]) \\\n",
        "    .addGrid(lr.elasticNetParam, [0.0, 1.0]) \\\n",
        "    .build()\n",
        "\n",
        "# Create CrossValidator with minimal settings\n",
        "crossval = CrossValidator(\n",
        "    estimator=pipeline,\n",
        "    estimatorParamMaps=paramGrid,\n",
        "    evaluator=MulticlassClassificationEvaluator(\n",
        "        labelCol=\"label\",\n",
        "        predictionCol=\"prediction\",\n",
        "        metricName=\"accuracy\"\n",
        "    ),\n",
        "    numFolds=2,\n",
        "    parallelism=1  # Set to 1 to minimize memory usage\n",
        ")\n",
        "\n",
        "# Function to safely unpersist DataFrames\n",
        "def safe_unpersist(df):\n",
        "    try:\n",
        "        if df is not None and df.is_cached:\n",
        "            df.unpersist()\n",
        "    except Exception as e:\n",
        "        print(f\"Warning: Could not unpersist dataframe: {str(e)}\")\n",
        "\n",
        "try:\n",
        "    # Persist with MEMORY_AND_DISK storage level and lower memory pressure\n",
        "    print(\"Starting cross-validation with sampled data...\")\n",
        "    train_sample.persist(StorageLevel.MEMORY_AND_DISK)\n",
        "\n",
        "    # Run cross-validation on sampled data\n",
        "    cv_model = crossval.fit(train_sample)\n",
        "\n",
        "    # Train final model on full dataset with best parameters\n",
        "    print(\"\\nTraining final model on full dataset with best parameters...\")\n",
        "    best_model = cv_model.bestModel\n",
        "    best_params = {\n",
        "        \"regParam\": best_model.stages[-1].getRegParam(),\n",
        "        \"elasticNetParam\": best_model.stages[-1].getElasticNetParam(),\n",
        "        \"minDF\": best_model.stages[2].getMinDF()\n",
        "    }\n",
        "\n",
        "    # Create final model with best parameters\n",
        "    final_pipeline = Pipeline(stages=[\n",
        "        tokenizer,\n",
        "        remover,\n",
        "        CountVectorizer(inputCol=\"filtered_tokens\", outputCol=\"raw_features\",\n",
        "                       minDF=best_params[\"minDF\"]),\n",
        "        idf,\n",
        "        LogisticRegression(labelCol=\"label\", featuresCol=\"features\",\n",
        "                          regParam=best_params[\"regParam\"],\n",
        "                          elasticNetParam=best_params[\"elasticNetParam\"])\n",
        "    ])\n",
        "\n",
        "    # Train and evaluate final model\n",
        "    print(\"Training final model...\")\n",
        "    final_model = final_pipeline.fit(train_cleaned)\n",
        "\n",
        "    print(\"Making predictions...\")\n",
        "    test_predictions = final_model.transform(test_cleaned)\n",
        "\n",
        "    # Evaluate the model\n",
        "    accuracy = evaluator.evaluate(test_predictions)\n",
        "    print(f\"\\nFinal model accuracy: {accuracy:.4f}\")\n",
        "\n",
        "    # Print best parameters\n",
        "    print(\"\\nBest model parameters:\")\n",
        "    for param, value in best_params.items():\n",
        "        print(f\"{param}: {value}\")\n",
        "\n",
        "except Exception as e:\n",
        "    print(f\"Error during model training: {str(e)}\")\n",
        "    print(\"Try reducing sample size further or simplifying model parameters\")\n",
        "finally:\n",
        "    # Clean up resources\n",
        "    print(\"\\nCleaning up resources...\")\n",
        "    safe_unpersist(train_sample)\n",
        "    safe_unpersist(train_cleaned)\n",
        "    safe_unpersist(test_cleaned)"
      ]
    },
    {
      "cell_type": "markdown",
      "source": [
        "We performs parameter tuning and final model training for a Logistic Regression text classification pipeline in PySpark while being mindful of memory and computation limits. To reduce resource usage, it first takes a 10% random sample of the training data and builds a lightweight pipeline consisting of tokenization, stopword removal, CountVectorizer, TF-IDF transformation, and Logistic Regression. A very small parameter grid is defined, varying only regParam, elasticNetParam, and minDF, and a CrossValidator with 2 folds is run on the sampled data to identify the best parameter combination. Once the best parameters are found, the code retrains a final pipeline on the full dataset using those optimal values. After training, predictions are made on the test set, and the model’s accuracy is reported along with the chosen hyperparameters. To avoid memory leaks, DataFrames are persisted temporarily during training and then safely unpersisted in the cleanup phase. This approach balances performance and efficiency by tuning on a smaller dataset but deploying the best-found configuration on the entire dataset."
      ],
      "metadata": {
        "id": "RzqagouOpLpl"
      },
      "id": "RzqagouOpLpl"
    },
    {
      "cell_type": "markdown",
      "source": [],
      "metadata": {
        "id": "UnPS5YN1ofIM"
      },
      "id": "UnPS5YN1ofIM"
    },
    {
      "cell_type": "markdown",
      "id": "9ad4c480",
      "metadata": {
        "id": "9ad4c480"
      },
      "source": [
        "## Model Evaluation (20 marks)\n",
        "We'll evaluate our models using multiple metrics:\n",
        "1. Accuracy\n",
        "2. F1-score\n",
        "3. Precision\n",
        "4. Recall\n",
        "5. Confusion Matrix\n",
        "\n",
        "These metrics provide a comprehensive view of our model's performance across different aspects of classification."
      ]
    },
    {
      "cell_type": "code",
      "execution_count": null,
      "id": "1e6a8d41",
      "metadata": {
        "id": "1e6a8d41"
      },
      "outputs": [],
      "source": [
        "# Calculate various metrics for the best model\n",
        "metrics = ['accuracy', 'f1', 'precision', 'recall']\n",
        "evaluators = {metric: MulticlassClassificationEvaluator(\n",
        "    labelCol=\"label\",\n",
        "    predictionCol=\"prediction\",\n",
        "    metricName=metric\n",
        ") for metric in metrics}\n",
        "\n",
        "# Print metrics\n",
        "print(\"Model Performance Metrics:\")\n",
        "for metric, evaluator in evaluators.items():\n",
        "    score = evaluator.evaluate(test_predictions)\n",
        "    print(f\"{metric.capitalize()}: {score:.4f}\")\n",
        "\n",
        "# Calculate confusion matrix\n",
        "from pyspark.sql.functions import count\n",
        "confusion_matrix = test_predictions.groupBy(\"label\", \"prediction\").agg(count(\"*\").alias(\"count\"))\n",
        "confusion_matrix_pd = confusion_matrix.toPandas()\n",
        "\n",
        "# Convert to matrix format\n",
        "matrix_data = confusion_matrix_pd.pivot(index='label', columns='prediction', values='count').fillna(0)\n",
        "\n",
        "# Plot confusion matrix\n",
        "plt.figure(figsize=(8, 6))\n",
        "sns.heatmap(matrix_data, annot=True, fmt='g', cmap='Blues')\n",
        "plt.title('Confusion Matrix')\n",
        "plt.ylabel('True Label')\n",
        "plt.xlabel('Predicted Label')\n",
        "plt.show()"
      ]
    },
    {
      "cell_type": "markdown",
      "source": [
        "![image.png](data:image/png;base64,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)"
      ],
      "metadata": {
        "id": "vCeHK93Q6KbT"
      },
      "id": "vCeHK93Q6KbT"
    },
    {
      "cell_type": "code",
      "source": [
        "\n",
        "\n",
        "\n",
        "\n"
      ],
      "metadata": {
        "id": "IXVjBdLA5msg"
      },
      "id": "IXVjBdLA5msg",
      "execution_count": 9,
      "outputs": []
    },
    {
      "cell_type": "markdown",
      "source": [
        "![image.png](data:image/png;base64,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)"
      ],
      "metadata": {
        "id": "9qiGTiHv5Vw-"
      },
      "id": "9qiGTiHv5Vw-"
    },
    {
      "cell_type": "markdown",
      "source": [
        "# Results Visualization\n",
        "\n",
        "In comparing the two models, the Logistic Regression obviously excels well over the Naive Bayes under all the evaluation indices. This capability to use the TF-IDF or frequency statistics-based features and operate high-dimensional sparse vectors enables it to form more patterned representations of the sentiment side. Studies that contrast Naive Bayes independence assumptions and sensitivity to feature representation find very low as accuracy of predictions. In the same sentiment analysis task, Logistic Regression is advised especially in CountVectorizer or TF-IDF features since it offers answer results on a probabilistic manner and balanced classification besides scale-ability in distributed environment such as PySpark. Naive Bayes can still be used as a benchmark with smaller and less sparse data.\n",
        "\n",
        "Hemlal Dulal\n",
        "\n",
        "Plotted bar graphs and graphical displays statistics of model assessment. Hemlal displayed Accuracy, Precision, Recall and F1-score of both the Logistic Regression and Naive Bayes so that the team could compare the model performance in a snap. His plots brought out performance patterns and were used to base on the discussion of the models selection and its practical consequences.\n",
        "\n",
        "Utkarsh Rimal\n",
        "\n",
        "Came up with comparative tables of evaluation measurements of the two models. Utkarsh aligned metrics in rows and it was easy to see performance differences. His tables were properly labelled, easy to read, and could be included in the report and presentation to ensure that the stakeholders grasped the performance of the models within a short time.\n",
        "\n",
        "Mohan Sharma\n",
        "\n",
        "Was responsible in displaying and performing analysis of confusion matrices of the two models. Mohan used true positive, true negative, false positive and false negative counts, and depicted them using a clear tabulated format. This visualisation helped the team to understand its weak areas and could discuss strengths and weaknesses of models.\n",
        "\n",
        "Dipak Acharya\n",
        "\n",
        "Helped to unite visualization results and confirm that the metrics were the same betweenicle and table. Dipak made sure that every visualization is relevant to the underlying data used to perform the evaluations, looked into it in relation to the calculations made to assess the metrics, and would use the team to analyze findings, which would be reflected in the report and presentation."
      ],
      "metadata": {
        "id": "n4gdoOY3os5W"
      },
      "id": "n4gdoOY3os5W"
    },
    {
      "cell_type": "markdown",
      "source": [
        "![image.png](data:image/png;base64,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)"
      ],
      "metadata": {
        "id": "guGFfqr7pzcM"
      },
      "id": "guGFfqr7pzcM"
    },
    {
      "cell_type": "markdown",
      "id": "344b371f",
      "metadata": {
        "id": "344b371f"
      },
      "source": [
        "## LSEP Considerations (10 marks)\n",
        "\n",
        "### Legal Considerations\n",
        "\n",
        "The dataset used in this project was sourced from a publicly available benchmarking website, ensuring compliance with copyright and data usage policies. However, it is essential to consider the following legal aspects:\n",
        "\n",
        "1. **Data Privacy**: The dataset does not contain personally identifiable information, mitigating privacy concerns.\n",
        "2. **Copyright Compliance**: The dataset's terms of use were reviewed to ensure adherence to copyright regulations.\n",
        "3. **Automated Decision-Making**: The implications of using machine learning models for automated decision-making were considered, ensuring transparency and fairness.\n",
        "\n",
        "### Social Implications\n",
        "\n",
        "The analysis of product reviews has significant social implications, including:\n",
        "\n",
        "1. **Consumer Trust**: Accurate sentiment analysis can enhance consumer trust in product recommendations.\n",
        "2. **Bias in Reviews**: The potential for bias in the dataset was identified, necessitating measures to ensure fair representation.\n",
        "3. **Cultural Sensitivity**: The diversity of review styles across cultures was considered to avoid misinterpretation.\n",
        "\n",
        "### Ethical Considerations\n",
        "\n",
        "Ethical considerations were central to this project, focusing on:\n",
        "\n",
        "1. **Bias Mitigation**: Efforts were made to minimize bias in the dataset and models, ensuring equitable outcomes.\n",
        "2. **Transparency**: The methodology and results were documented transparently, enabling reproducibility and accountability.\n",
        "3. **Fair Representation**: The models were evaluated to ensure fair representation across all classes.\n",
        "\n",
        "### Professional Considerations\n",
        "\n",
        "Professional standards were upheld throughout the project, including:\n",
        "\n",
        "1. **Data Handling**: Best practices were followed for data preprocessing and storage, ensuring data integrity.\n",
        "2. **Documentation**: Comprehensive documentation was provided to facilitate understanding and reproducibility.\n",
        "3. **Model Maintenance**: Strategies for model maintenance and updates were proposed to ensure long-term reliability.\n",
        "\n",
        "### Mitigation Strategies\n",
        "\n",
        "1. Regular bias testing and correction.\n",
        "2. Transparent documentation of model decisions.\n",
        "3. Periodic model retraining with updated data.\n",
        "4. Clear communication of model limitations.\n",
        "5. Implementation of user feedback mechanisms.\n",
        "\n",
        "By addressing these considerations, the project adhered to the principles of Legal, Social, Ethical, and Professional (LSEP) issues, ensuring responsible and impactful analysis."
      ]
    },
    {
      "cell_type": "markdown",
      "source": [],
      "metadata": {
        "id": "ZoBPUJC2o4Xf"
      },
      "id": "ZoBPUJC2o4Xf"
    },
    {
      "cell_type": "markdown",
      "id": "60108f63",
      "metadata": {
        "id": "60108f63"
      },
      "source": [
        "## Summary and Conclusions\n",
        "\n",
        "### Summary\n",
        "\n",
        "This study successfully implemented a multi-class classification system for analyzing Amazon product reviews using PySpark, a distributed computing framework. The project involved comprehensive preprocessing of textual data, including tokenization, stopword removal, and TF-IDF transformation, to convert raw text into meaningful features. Two machine learning models, Logistic Regression and Naive Bayes, were evaluated for their performance on the dataset. Logistic Regression emerged as the superior model, achieving an accuracy of 89.30%, compared to Naive Bayes, which achieved an accuracy of 8 %. The evaluation metrics, including accuracy, F1-score, precision, and recall, provided a detailed understanding of the models' strengths and limitations. Challenges such as class imbalance and computational overhead were effectively addressed through oversampling techniques and optimized parameter tuning.\n",
        "\n",
        "### Conclusion\n",
        "\n",
        "The findings of this study underscore the efficacy of PySpark in handling large-scale datasets and building robust machine learning pipelines. Logistic Regression demonstrated its suitability for high-dimensional text data, outperforming Naive Bayes in terms of accuracy and reliability. The project also highlighted the importance of addressing class imbalance and optimizing computational resources to ensure scalability and robustness. Future work could explore advanced techniques such as deep learning models and real-time sentiment analysis to further enhance the system's capabilities. Additionally, incorporating domain-specific features and ensemble methods could provide deeper insights and improve classification performance. Overall, this study contributes to the growing body of research on machine learning applications in big data analytics, offering valuable methodologies and insights for future endeavors."
      ]
    },
    {
      "cell_type": "markdown",
      "source": [
        "# Reference\n",
        "\n",
        "Apache (2025a) ‘CountVectorizer’. Available at: https://spark.apache.org/docs/latest/api/python/reference/api/pyspark.ml.feature.CountVectorizer.html.\n",
        "\n",
        "Apache (2025b) ‘Feature Extraction and Transformation - RDD-based API’. Available at: https://spark.apache.org/docs/latest/mllib-feature-extraction.html.\n",
        "Apache (2025c) ‘Machine Learning Library (MLlib) Guide’. Available at: https://spark.apache.org/docs/latest/ml-guide.html.\n",
        "Apache (2025d) ‘StopWordsRemover’. Available at: https://spark.apache.org/docs/latest/api/python/reference/api/pyspark.ml.feature.StopWordsRemover.html.\n",
        "Apache (2025e) ‘Tokenizer’. Available at: https://spark.apache.org/docs/latest/api/python/reference/api/pyspark.ml.feature.Tokenizer.html.\n",
        "Awan, A.A. and Navlani, A. (2023) ‘Naive Bayes Classification Tutorial using Scikit-learn’. Available at: https://www.datacamp.com/tutorial/naive-bayes-scikit-learn.\n",
        "Ayan, D. (2024) ‘Evaluating Binary Classification Models with PySpark’. Available at: https://medium.com/@demrahayan/evaluating-binary-classification-models-with-pyspark-2afc5ac7937f.\n",
        "Dataquest (2024) ‘Sentiment Analysis with Naive Bayes’. Available at: https://www.dataquest.io/blog/naive-bayes-tutorial/.\n",
        "Editorial Team (2021) ‘Sentiment Analysis with Logistic Regression’. Available at: https://towardsai.net/p/nlp/sentiment-analysis-with-logistic-regression.\n",
        "Govindaraj, P. (2024) ‘Implementing TF-IDF with Spark and Amazon EMR’. Available at: https://medium.com/@govindarajpriyanthan/implementing-tf-idf-with-spark-and-amazon-emr-93d0f776b646.\n",
        "Kim, R. (2018) ‘Sentiment Analysis with PySpark’. Available at: https://medium.com/data-science/sentiment-analysis-with-pyspark-bc8e83f80c35.\n",
        "Koushiki (2024) ‘Building Naive Bayes Classifier from Scratch to Perform Sentiment Analysis’. Available at: https://www.analyticsvidhya.com/blog/2022/03/building-naive-bayes-classifier-from-scratch-to-perform-sentiment-analysis/.\n",
        "Machinelearningplus (2025) ‘PySpark Logistic Regression – How to Build and Evaluate Logistic Regression Models using PySpark MLlib’. Available at: www.machinelearningplus.com/pyspark/pyspark-logistic-regression/.\n",
        "Ribeiro, F.N. et al. (2016) ‘SentiBench - a benchmark comparison of state-of-the-practice sentiment analysis methods’. Available at: https://arxiv.org/abs/1512.01818.\n",
        "Thakur, P. (2022) ‘Sentiment Analysis with Naive Bayes Classifier | NLTK | Python Code | Machine Learning’. Available at: https://medium.com/@preethithakur/undesrtand-naive-bayes-algorithm-in-simple-explanation-with-python-code-part-2-a2b91cbbf637.\n",
        "W3schools (2025) ‘Machine Learning - Logistic Regression’. Available at: https://www.w3schools.com/python/python_ml_logistic_regression.asp.\n",
        "\n"
      ],
      "metadata": {
        "id": "dBk0O6UTo5Yo"
      },
      "id": "dBk0O6UTo5Yo"
    },
    {
      "cell_type": "markdown",
      "source": [
        "# Convert ipynb to HTML for Turnitin submission [5 marks]"
      ],
      "metadata": {
        "id": "Mm8nhriNrtkt"
      },
      "id": "Mm8nhriNrtkt"
    },
    {
      "cell_type": "code",
      "source": [
        "!jupyter nbconvert --to html \"/content/T24_CRWK (2).ipynb\""
      ],
      "metadata": {
        "colab": {
          "base_uri": "https://localhost:8080/"
        },
        "id": "anE8-kGSo6DB",
        "outputId": "24c7c9c9-bc0c-4522-e409-30dc2a0a4c34"
      },
      "id": "anE8-kGSo6DB",
      "execution_count": 10,
      "outputs": [
        {
          "output_type": "stream",
          "name": "stdout",
          "text": [
            "[NbConvertApp] Converting notebook /content/T24_CRWK (2).ipynb to html\n",
            "[NbConvertApp] WARNING | Alternative text is missing on 1 image(s).\n",
            "[NbConvertApp] Writing 458183 bytes to /content/T24_CRWK (2).html\n"
          ]
        }
      ]
    },
    {
      "cell_type": "code",
      "source": [],
      "metadata": {
        "id": "VpIiZj5urpyA"
      },
      "id": "VpIiZj5urpyA",
      "execution_count": null,
      "outputs": []
    }
  ],
  "metadata": {
    "kernelspec": {
      "display_name": "Python 3 (ipykernel)",
      "language": "python",
      "name": "python3"
    },
    "language_info": {
      "codemirror_mode": {
        "name": "ipython",
        "version": 3
      },
      "file_extension": ".py",
      "mimetype": "text/x-python",
      "name": "python",
      "nbconvert_exporter": "python",
      "pygments_lexer": "ipython3",
      "version": "3.12.9"
    },
    "colab": {
      "provenance": [],
      "include_colab_link": true
    }
  },
  "nbformat": 4,
  "nbformat_minor": 5
}