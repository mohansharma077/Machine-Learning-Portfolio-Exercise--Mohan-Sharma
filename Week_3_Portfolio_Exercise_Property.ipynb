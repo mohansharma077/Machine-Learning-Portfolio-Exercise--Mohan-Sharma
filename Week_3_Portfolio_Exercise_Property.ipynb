{
  "nbformat": 4,
  "nbformat_minor": 0,
  "metadata": {
    "colab": {
      "provenance": [],
      "mount_file_id": "1dxajCipM9cAvFFw1JS0KHLmAD7hILbc9",
      "authorship_tag": "ABX9TyNMC53UlKcomz74XPa2FkEB",
      "include_colab_link": true
    },
    "kernelspec": {
      "name": "python3",
      "display_name": "Python 3"
    },
    "language_info": {
      "name": "python"
    }
  },
  "cells": [
    {
      "cell_type": "markdown",
      "metadata": {
        "id": "view-in-github",
        "colab_type": "text"
      },
      "source": [
        "<a href=\"https://colab.research.google.com/github/mohansharma077/Machine-Learning-Portfolio-Exercise--Mohan-Sharma/blob/main/Week_3_Portfolio_Exercise_Property.ipynb\" target=\"_parent\"><img src=\"https://colab.research.google.com/assets/colab-badge.svg\" alt=\"Open In Colab\"/></a>"
      ]
    },
    {
      "cell_type": "code",
      "metadata": {
        "id": "17b31635"
      },
      "source": [
        "# Import necessary libraries\n",
        "from pyspark.sql import SparkSession\n",
        "from pyspark.ml.feature import VectorAssembler\n",
        "from pyspark.ml.regression import LinearRegression\n",
        "from pyspark.ml.evaluation import RegressionEvaluator\n",
        "import matplotlib.pyplot as plt\n",
        "import numpy as np"
      ],
      "execution_count": 6,
      "outputs": []
    },
    {
      "cell_type": "code",
      "source": [
        "# Initialize Spark session\n",
        "spark = SparkSession.builder.appName(\"PropertyPricePrediction\").getOrCreate()"
      ],
      "metadata": {
        "id": "RldYBxR0wv0r"
      },
      "execution_count": 7,
      "outputs": []
    },
    {
      "cell_type": "markdown",
      "metadata": {
        "id": "2105265f"
      },
      "source": [
        "## Load data using pyspark\n",
        "Load the property dataset into a PySpark DataFrame.\n"
      ]
    },
    {
      "cell_type": "code",
      "metadata": {
        "colab": {
          "base_uri": "https://localhost:8080/"
        },
        "id": "1fbf4e62",
        "outputId": "b96cb303-8dcb-47ee-d7c4-72bdf0bdd348"
      },
      "source": [
        "# Load the dataset into a PySpark DataFrame\n",
        "property_data = spark.read.csv('/content/drive/MyDrive/pySpark/property.csv', header=True, inferSchema=True)\n",
        "\n",
        "# Display the schema of the DataFrame\n",
        "property_data.printSchema()\n",
        "\n",
        "# Show the first few rows of the DataFrame\n",
        "property_data.show(5)"
      ],
      "execution_count": 8,
      "outputs": [
        {
          "output_type": "stream",
          "name": "stdout",
          "text": [
            "root\n",
            " |-- Square_Footage: integer (nullable = true)\n",
            " |-- Num_Bedrooms: integer (nullable = true)\n",
            " |-- Num_Bathrooms: integer (nullable = true)\n",
            " |-- Year_Built: integer (nullable = true)\n",
            " |-- Lot_Size: integer (nullable = true)\n",
            " |-- Price: double (nullable = true)\n",
            "\n",
            "+--------------+------------+-------------+----------+--------+------------------+\n",
            "|Square_Footage|Num_Bedrooms|Num_Bathrooms|Year_Built|Lot_Size|             Price|\n",
            "+--------------+------------+-------------+----------+--------+------------------+\n",
            "|          1360|           2|            3|      1953|    7860| 303948.1373854071|\n",
            "|          4272|           3|            3|      1997|    5292| 860386.2685075302|\n",
            "|          3592|           4|            1|      1983|    9723| 734389.7538956215|\n",
            "|           966|           6|            1|      1903|    4086| 226448.8070714377|\n",
            "|          4926|           6|            4|      1944|    1081|1022486.2616704078|\n",
            "+--------------+------------+-------------+----------+--------+------------------+\n",
            "only showing top 5 rows\n",
            "\n"
          ]
        }
      ]
    },
    {
      "cell_type": "code",
      "source": [
        "# Data preprocessing - handle missing values if any\n",
        "property_data = property_data.na.drop()"
      ],
      "metadata": {
        "id": "lTckEM8zxQfZ"
      },
      "execution_count": 9,
      "outputs": []
    },
    {
      "cell_type": "code",
      "metadata": {
        "id": "49d88072"
      },
      "source": [
        "# Feature selection - trying different combinations\n",
        "feature_sets = [\n",
        "    ['Square_Footage', 'Num_Bedrooms', 'Num_Bathrooms', 'Year_Built'],\n",
        "    ['Square_Footage', 'Num_Bedrooms', 'Num_Bathrooms', 'Lot_Size'],\n",
        "    ['Square_Footage', 'Num_Bathrooms', 'Year_Built', 'Lot_Size'],\n",
        "    ['Square_Footage', 'Num_Bedrooms', 'Num_Bathrooms', 'Year_Built', 'Lot_Size']\n",
        "]\n",
        "\n",
        "target_column = 'Price'"
      ],
      "execution_count": 16,
      "outputs": []
    },
    {
      "cell_type": "code",
      "metadata": {
        "colab": {
          "base_uri": "https://localhost:8080/"
        },
        "id": "36fc0790",
        "outputId": "cb30e541-c13f-4933-ec36-25d4a68c568e"
      },
      "source": [
        "# Store all results\n",
        "all_results = []\n",
        "\n",
        "for i, features in enumerate(feature_sets):\n",
        "    print(f\"\\n=== Evaluating Feature Set {i+1}: {features} ===\")\n",
        "\n",
        "    # Prepare data\n",
        "    assembler = VectorAssembler(inputCols=features, outputCol=\"features\")\n",
        "    assembled_data = assembler.transform(property_data).select(\"features\", \"Price\")\n",
        "    train_data, test_data = assembled_data.randomSplit([0.7, 0.3], seed=42)\n",
        "\n",
        "    # Initialize models\n",
        "    lr = LinearRegression(featuresCol='features', labelCol='Price')\n",
        "    lasso = LinearRegression(featuresCol='features', labelCol='Price',\n",
        "                           elasticNetParam=1.0, regParam=0.01)\n",
        "    ridge = LinearRegression(featuresCol='features', labelCol='Price',\n",
        "                           elasticNetParam=0.0, regParam=0.01)\n",
        "\n",
        "    # Train models\n",
        "    lr_model = lr.fit(train_data)\n",
        "    lasso_model = lasso.fit(train_data)\n",
        "    ridge_model = ridge.fit(train_data)\n",
        "\n",
        "    # Make predictions\n",
        "    lr_pred = lr_model.transform(test_data)\n",
        "    lasso_pred = lasso_model.transform(test_data)\n",
        "    ridge_pred = ridge_model.transform(test_data)\n",
        "\n",
        "    # Initialize evaluators\n",
        "    evaluator_mse = RegressionEvaluator(labelCol='Price', predictionCol='prediction', metricName='mse')\n",
        "    evaluator_rmse = RegressionEvaluator(labelCol='Price', predictionCol='prediction', metricName='rmse')\n",
        "    evaluator_r2 = RegressionEvaluator(labelCol='Price', predictionCol='prediction', metricName='r2')\n",
        "\n",
        "    # Calculate metrics for each model\n",
        "    def evaluate_model(predictions, model_name):\n",
        "        return {\n",
        "            'model': model_name,\n",
        "            'features': f\"Set {i+1}\",\n",
        "            'mse': evaluator_mse.evaluate(predictions),\n",
        "            'rmse': evaluator_rmse.evaluate(predictions),\n",
        "            'r2': evaluator_r2.evaluate(predictions)\n",
        "        }\n",
        "\n",
        "    lr_metrics = evaluate_model(lr_pred, 'Linear')\n",
        "    lasso_metrics = evaluate_model(lasso_pred, 'Lasso')\n",
        "    ridge_metrics = evaluate_model(ridge_pred, 'Ridge')\n",
        "\n",
        "    # Store results\n",
        "    all_results.extend([lr_metrics, lasso_metrics, ridge_metrics])\n",
        "\n",
        "    # Print current results\n",
        "    print(f\"Linear - MSE: {lr_metrics['mse']:.6f}, RMSE: {lr_metrics['rmse']:.6f}, R²: {lr_metrics['r2']:.6f}\")\n",
        "    print(f\"Lasso - MSE: {lasso_metrics['mse']:.6f}, RMSE: {lasso_metrics['rmse']:.6f}, R²: {lasso_metrics['r2']:.6f}\")\n",
        "    print(f\"Ridge - MSE: {ridge_metrics['mse']:.6f}, RMSE: {ridge_metrics['rmse']:.6f}, R²: {ridge_metrics['r2']:.6f}\")"
      ],
      "execution_count": 17,
      "outputs": [
        {
          "output_type": "stream",
          "name": "stdout",
          "text": [
            "\n",
            "=== Evaluating Feature Set 1: ['Square_Footage', 'Num_Bedrooms', 'Num_Bathrooms', 'Year_Built'] ===\n",
            "Linear - MSE: 400737114.332511, RMSE: 20018.419376, R²: 0.994097\n",
            "Lasso - MSE: 400737114.228460, RMSE: 20018.419374, R²: 0.994097\n",
            "Ridge - MSE: 400737115.255048, RMSE: 20018.419400, R²: 0.994097\n",
            "\n",
            "=== Evaluating Feature Set 2: ['Square_Footage', 'Num_Bedrooms', 'Num_Bathrooms', 'Lot_Size'] ===\n",
            "Linear - MSE: 411785130.394630, RMSE: 20292.489507, R²: 0.993933\n",
            "Lasso - MSE: 411785132.255740, RMSE: 20292.489553, R²: 0.993933\n",
            "Ridge - MSE: 411785130.497488, RMSE: 20292.489510, R²: 0.993933\n",
            "\n",
            "=== Evaluating Feature Set 3: ['Square_Footage', 'Num_Bathrooms', 'Year_Built', 'Lot_Size'] ===\n",
            "Linear - MSE: 472585278.045033, RMSE: 21739.026612, R²: 0.993037\n",
            "Lasso - MSE: 472585275.409130, RMSE: 21739.026552, R²: 0.993037\n",
            "Ridge - MSE: 472585277.340283, RMSE: 21739.026596, R²: 0.993037\n",
            "\n",
            "=== Evaluating Feature Set 4: ['Square_Footage', 'Num_Bedrooms', 'Num_Bathrooms', 'Year_Built', 'Lot_Size'] ===\n",
            "Linear - MSE: 400279785.232497, RMSE: 20006.993408, R²: 0.994104\n",
            "Lasso - MSE: 400279785.436163, RMSE: 20006.993413, R²: 0.994104\n",
            "Ridge - MSE: 400279785.977430, RMSE: 20006.993427, R²: 0.994104\n"
          ]
        }
      ]
    },
    {
      "cell_type": "code",
      "source": [
        "# Visualization\n"
      ],
      "metadata": {
        "id": "ACRhb0PfyAch"
      },
      "execution_count": 20,
      "outputs": []
    },
    {
      "cell_type": "code",
      "source": [
        "# Create a DataFrame from the results for easier plotting\n",
        "results_df = spark.createDataFrame(all_results)\n",
        "\n",
        "# Collect the results to a pandas DataFrame for plotting\n",
        "pandas_results_df = results_df.toPandas()\n",
        "\n",
        "# Pivot the DataFrame to have models as columns and features as rows\n",
        "pivot_results = pandas_results_df.pivot(index='features', columns='model', values='r2')\n",
        "\n",
        "# Plotting\n",
        "fig, ax = plt.subplots(figsize=(12, 6))\n",
        "\n",
        "feature_sets_labels = [f\"Set {i+1}\" for i in range(len(feature_sets))]\n",
        "models = ['Linear', 'Lasso', 'Ridge']\n",
        "bar_width = 0.25\n",
        "x = np.arange(len(feature_sets_labels))\n",
        "\n",
        "for i, model in enumerate(models):\n",
        "    bars = ax.bar(x + i * bar_width, pivot_results[model], bar_width, label=model)\n",
        "    # Add text labels on top of the bars\n",
        "    for bar in bars:\n",
        "        yval = bar.get_height()\n",
        "        plt.text(bar.get_x() + bar.get_width()/2.0, yval, f'{yval:.3f}', va='bottom', ha='center') # va: vertical alignment, ha: horizontal alignment\n",
        "\n",
        "# Add some text for labels, title and axes ticks\n",
        "ax.set_xlabel('Feature Set')\n",
        "ax.set_ylabel('R-squared Value')\n",
        "ax.set_title('R-squared Value by Model and Feature Set')\n",
        "ax.set_xticks(x + bar_width)\n",
        "ax.set_xticklabels(feature_sets_labels)\n",
        "ax.legend()\n",
        "\n",
        "plt.tight_layout()\n",
        "plt.show()"
      ],
      "metadata": {
        "colab": {
          "base_uri": "https://localhost:8080/",
          "height": 607
        },
        "id": "nHOFe8OVzw2x",
        "outputId": "db34f6af-9172-4652-aad6-d8d8681e489c"
      },
      "execution_count": 23,
      "outputs": [
        {
          "output_type": "display_data",
          "data": {
            "text/plain": [
              "<Figure size 1200x600 with 1 Axes>"
            ],
            "image/png": "[encoded data removed]"
          },
          "metadata": {}
        }
      ]
    },
    {
      "cell_type": "markdown",
      "source": [
        "# Reflective Summary: Property Price Prediction Analysis\n",
        "\n",
        "**Feature Selection Options**\n",
        "\n",
        "I assessed 4 feature combinations to understand their predictive abilities. My first set of features contained the essential structural features (Square_Footage, Bedrooms, Bathrooms, Year_Built). The second set contained Square_Footage, Lot_Size, Bedrooms & Bathrooms (with one year less than the first set) to assess the importance of the land value on house price prediction. The third set excluded Bedrooms to see if house pricing focused more on bathrooms. The final set assessed all relevant features. It was clear from the final analysis that a combination of structural features (Square_Footage, Bathrooms), and a temporal feature (Year_Built) produced the best behavior overall. The all-features final feature set produced the best overall R squared (0.994104).\n",
        "\n",
        "**Model identification & Comparison**\n",
        "\n",
        "\n",
        "There was, unexpectedly, remarkable similarities among the results across the regression approaches (Linear/Lasso/Ridge); differences within the means of each regression technique only occurred at the 5th decimal place. This suggests that for the purpose of this dataset, a few key implications can be asserted regarding estimating house prices in the future.\n",
        "\n",
        "**Regularization did not offer much improvement over normal linear regression.**\n",
        "\n",
        "\n",
        "Feature Set 1 (with Year_Built) had an R squared value that was 0.0164 greater than Set 2 (with Lot_Size).\n",
        "\n",
        "Set 4 (the full feature set), only provided negligible benefit over Set 1.\n",
        "\n",
        "Dropping Bedrooms (Set 3) caused the largest drop in R squared value (i.e. -0.01).  \n",
        "\n",
        "**Challenges & Solutions**\n",
        "\n",
        "The main challenge I encountered was in selecting the best model given almost identical performances of the model. I approached it by;\n",
        "\n",
        "Naturally, I standardized the parameters to ensure each model was treated fairly with respect to regularizer strength.\n",
        "\n",
        "I attempted testing several regularization strengths as this could have an impact on the results. I experimented with multiple regularization strengths, with (λ=0.01) proving to my most stable strength.\n",
        "\n",
        "I checked that I was replicating the model results by testing different train-test splits.
This analysis suggests that property valuation can be well represented through basic structural features, but practitioners must be aware of the suspiciously high R² values. This analysis has shown that square footage and age of property are necessary factors leading to price prediction, and the rest of the features only provided a marginal increase in prediction performance."
      ],
      "metadata": {
        "id": "U6S8rufi0Urc"
      }
    },
    {
      "cell_type": "code",
      "source": [],
      "metadata": {
        "id": "Qyngz2Tz1jMF"
      },
      "execution_count": null,
      "outputs": []
    }
  ]
}
