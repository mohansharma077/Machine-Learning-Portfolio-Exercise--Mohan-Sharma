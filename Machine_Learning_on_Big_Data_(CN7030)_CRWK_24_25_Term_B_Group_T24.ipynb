{
  "cells": [
    {
      "cell_type": "markdown",
      "metadata": {
        "id": "view-in-github",
        "colab_type": "text"
      },
      "source": [
        "<a href=\"https://colab.research.google.com/github/mohansharma077/Machine-Learning-Portfolio-Exercise--Mohan-Sharma/blob/main/Machine_Learning_on_Big_Data_(CN7030)_CRWK_24_25_Term_B_Group_T24.ipynb\" target=\"_parent\"><img src=\"https://colab.research.google.com/assets/colab-badge.svg\" alt=\"Open In Colab\"/></a>"
      ]
    },
    {
      "cell_type": "markdown",
      "id": "782e3341",
      "metadata": {
        "id": "782e3341"
      },
      "source": [
        "# Machine Learning on Big Data (CN7030) CRWK 24-25 Term B [60% weighting]"
      ]
    },
    {
      "cell_type": "markdown",
      "id": "80b66c4d",
      "metadata": {
        "id": "80b66c4d"
      },
      "source": [
        " Group ID: [Group_T24]\n",
        " 1. Student 1: Mohan Sharma\n",
        " 2. Student 2: Hemlal Dulal\n",
        " 3. Student 3: Utkarsh Rimal\n",
        " 4. Student 4: Dipak Acharya"
      ]
    },
    {
      "cell_type": "code",
      "execution_count": null,
      "id": "002f9c71",
      "metadata": {
        "colab": {
          "base_uri": "https://localhost:8080/"
        },
        "id": "002f9c71",
        "outputId": "b3ab479a-6aca-4e80-971d-704ff0e56f9c"
      },
      "outputs": [
        {
          "name": "stdout",
          "output_type": "stream",
          "text": [
            "Defaulting to user installation because normal site-packages is not writeable\n",
            "Requirement already satisfied: pyspark in c:\\users\\hemlal\\appdata\\roaming\\python\\python313\\site-packages (4.0.0)\n",
            "Requirement already satisfied: nltk in c:\\users\\hemlal\\appdata\\roaming\\python\\python313\\site-packages (3.9.1)\n",
            "Requirement already satisfied: py4j==0.10.9.9 in c:\\users\\hemlal\\appdata\\roaming\\python\\python313\\site-packages (from pyspark) (0.10.9.9)\n",
            "Requirement already satisfied: click in c:\\users\\hemlal\\appdata\\roaming\\python\\python313\\site-packages (from nltk) (8.2.1)\n",
            "Requirement already satisfied: joblib in c:\\users\\hemlal\\appdata\\roaming\\python\\python313\\site-packages (from nltk) (1.5.1)\n",
            "Requirement already satisfied: regex>=2021.8.3 in c:\\users\\hemlal\\appdata\\roaming\\python\\python313\\site-packages (from nltk) (2025.7.34)\n",
            "Requirement already satisfied: tqdm in c:\\users\\hemlal\\appdata\\roaming\\python\\python313\\site-packages (from nltk) (4.67.1)\n",
            "Requirement already satisfied: colorama in c:\\users\\hemlal\\appdata\\roaming\\python\\python313\\site-packages (from click->nltk) (0.4.6)\n"
          ]
        },
        {
          "name": "stderr",
          "output_type": "stream",
          "text": [
            "\n",
            "[notice] A new release of pip is available: 25.1.1 -> 25.2\n",
            "[notice] To update, run: python.exe -m pip install --upgrade pip\n"
          ]
        }
      ],
      "source": [
        "!pip install pyspark nltk"
      ]
    },
    {
      "cell_type": "code",
      "execution_count": null,
      "id": "04b8643f",
      "metadata": {
        "colab": {
          "base_uri": "https://localhost:8080/"
        },
        "id": "04b8643f",
        "outputId": "06692f6e-a468-4dd3-f0e8-a04adfaf62fd"
      },
      "outputs": [
        {
          "name": "stderr",
          "output_type": "stream",
          "text": [
            "[nltk_data] Downloading package punkt to\n",
            "[nltk_data]     C:\\Users\\Hemlal\\AppData\\Roaming\\nltk_data...\n",
            "[nltk_data]   Unzipping tokenizers\\punkt.zip.\n",
            "[nltk_data] Downloading package stopwords to\n",
            "[nltk_data]     C:\\Users\\Hemlal\\AppData\\Roaming\\nltk_data...\n",
            "[nltk_data]   Unzipping corpora\\stopwords.zip.\n"
          ]
        },
        {
          "data": {
            "text/plain": [
              "True"
            ]
          },
          "execution_count": 3,
          "metadata": {},
          "output_type": "execute_result"
        }
      ],
      "source": [
        "import nltk\n",
        "nltk.download('punkt')\n",
        "nltk.download('stopwords')\n"
      ]
    },
    {
      "cell_type": "code",
      "execution_count": null,
      "id": "0f5e1a42",
      "metadata": {
        "id": "0f5e1a42",
        "outputId": "b2f78290-076d-4ef8-89f4-358603bd9601"
      },
      "outputs": [
        {
          "name": "stdout",
          "output_type": "stream",
          "text": [
            "Defaulting to user installation because normal site-packages is not writeable\n",
            "Collecting matplotlib\n",
            "  Downloading matplotlib-3.10.5-cp313-cp313-win_amd64.whl.metadata (11 kB)\n",
            "Collecting contourpy>=1.0.1 (from matplotlib)\n",
            "  Downloading contourpy-1.3.3-cp313-cp313-win_amd64.whl.metadata (5.5 kB)\n",
            "Collecting cycler>=0.10 (from matplotlib)\n",
            "  Downloading cycler-0.12.1-py3-none-any.whl.metadata (3.8 kB)\n",
            "Collecting fonttools>=4.22.0 (from matplotlib)\n",
            "  Downloading fonttools-4.59.1-cp313-cp313-win_amd64.whl.metadata (111 kB)\n",
            "Collecting kiwisolver>=1.3.1 (from matplotlib)\n",
            "  Downloading kiwisolver-1.4.9-cp313-cp313-win_amd64.whl.metadata (6.4 kB)\n",
            "Collecting numpy>=1.23 (from matplotlib)\n",
            "  Downloading numpy-2.3.2-cp313-cp313-win_amd64.whl.metadata (60 kB)\n",
            "Requirement already satisfied: packaging>=20.0 in c:\\users\\hemlal\\appdata\\roaming\\python\\python313\\site-packages (from matplotlib) (25.0)\n",
            "Collecting pillow>=8 (from matplotlib)\n",
            "  Downloading pillow-11.3.0-cp313-cp313-win_amd64.whl.metadata (9.2 kB)\n",
            "Collecting pyparsing>=2.3.1 (from matplotlib)\n",
            "  Downloading pyparsing-3.2.3-py3-none-any.whl.metadata (5.0 kB)\n",
            "Requirement already satisfied: python-dateutil>=2.7 in c:\\users\\hemlal\\appdata\\roaming\\python\\python313\\site-packages (from matplotlib) (2.9.0.post0)\n",
            "Requirement already satisfied: six>=1.5 in c:\\users\\hemlal\\appdata\\roaming\\python\\python313\\site-packages (from python-dateutil>=2.7->matplotlib) (1.17.0)\n",
            "Downloading matplotlib-3.10.5-cp313-cp313-win_amd64.whl (8.1 MB)\n",
            "   ---------------------------------------- 0.0/8.1 MB ? eta -:--:--\n",
            "   ------------ --------------------------- 2.6/8.1 MB 14.2 MB/s eta 0:00:01\n",
            "   ------------------------ --------------- 5.0/8.1 MB 12.8 MB/s eta 0:00:01\n",
            "   ------------------------------------- -- 7.6/8.1 MB 12.6 MB/s eta 0:00:01\n",
            "   ---------------------------------------- 8.1/8.1 MB 12.2 MB/s eta 0:00:00\n",
            "Downloading contourpy-1.3.3-cp313-cp313-win_amd64.whl (226 kB)\n",
            "Downloading cycler-0.12.1-py3-none-any.whl (8.3 kB)\n",
            "Downloading fonttools-4.59.1-cp313-cp313-win_amd64.whl (2.3 MB)\n",
            "   ---------------------------------------- 0.0/2.3 MB ? eta -:--:--\n",
            "   ---------------------------------------- 2.3/2.3 MB 11.8 MB/s eta 0:00:00\n",
            "Downloading kiwisolver-1.4.9-cp313-cp313-win_amd64.whl (73 kB)\n",
            "Downloading numpy-2.3.2-cp313-cp313-win_amd64.whl (12.8 MB)\n",
            "   ---------------------------------------- 0.0/12.8 MB ? eta -:--:--\n",
            "   ----- ---------------------------------- 1.8/12.8 MB 10.7 MB/s eta 0:00:02\n",
            "   ------------- -------------------------- 4.5/12.8 MB 11.3 MB/s eta 0:00:01\n",
            "   ---------------------- ----------------- 7.1/12.8 MB 11.7 MB/s eta 0:00:01\n",
            "   ---------------------------- ----------- 9.2/12.8 MB 11.2 MB/s eta 0:00:01\n",
            "   ------------------------------------ --- 11.8/12.8 MB 11.6 MB/s eta 0:00:01\n",
            "   ---------------------------------------- 12.8/12.8 MB 10.9 MB/s eta 0:00:00\n",
            "Downloading pillow-11.3.0-cp313-cp313-win_amd64.whl (7.0 MB)\n",
            "   ---------------------------------------- 0.0/7.0 MB ? eta -:--:--\n",
            "   --------------- ------------------------ 2.6/7.0 MB 12.6 MB/s eta 0:00:01\n",
            "   ---------------------------------- ----- 6.0/7.0 MB 14.1 MB/s eta 0:00:01\n",
            "   ---------------------------------------- 7.0/7.0 MB 12.2 MB/s eta 0:00:00\n",
            "Downloading pyparsing-3.2.3-py3-none-any.whl (111 kB)\n",
            "Installing collected packages: pyparsing, pillow, numpy, kiwisolver, fonttools, cycler, contourpy, matplotlib\n",
            "\n",
            "   ---------------------------------------- 0/8 [pyparsing]\n",
            "   ---------------------------------------- 0/8 [pyparsing]\n",
            "   ----- ---------------------------------- 1/8 [pillow]\n",
            "   ----- ---------------------------------- 1/8 [pillow]\n",
            "   ----- ---------------------------------- 1/8 [pillow]\n",
            "   ----- ---------------------------------- 1/8 [pillow]\n",
            "   ----- ---------------------------------- 1/8 [pillow]\n",
            "   ----- ---------------------------------- 1/8 [pillow]\n",
            "   ----- ---------------------------------- 1/8 [pillow]\n",
            "   ----- ---------------------------------- 1/8 [pillow]\n",
            "   ----- ---------------------------------- 1/8 [pillow]\n",
            "   ----- ---------------------------------- 1/8 [pillow]\n",
            "   ----- ---------------------------------- 1/8 [pillow]\n",
            "   ----- ---------------------------------- 1/8 [pillow]\n",
            "   ----- ---------------------------------- 1/8 [pillow]\n",
            "   ---------- ----------------------------- 2/8 [numpy]\n",
            "   ---------- ----------------------------- 2/8 [numpy]\n",
            "   ---------- ----------------------------- 2/8 [numpy]\n",
            "   ---------- ----------------------------- 2/8 [numpy]\n",
            "   ---------- ----------------------------- 2/8 [numpy]\n",
            "   ---------- ----------------------------- 2/8 [numpy]\n",
            "   ---------- ----------------------------- 2/8 [numpy]\n",
            "   ---------- ----------------------------- 2/8 [numpy]\n",
            "   ---------- ----------------------------- 2/8 [numpy]\n",
            "   ---------- ----------------------------- 2/8 [numpy]\n",
            "   ---------- ----------------------------- 2/8 [numpy]\n",
            "   ---------- ----------------------------- 2/8 [numpy]\n",
            "   ---------- ----------------------------- 2/8 [numpy]\n",
            "   ---------- ----------------------------- 2/8 [numpy]\n",
            "   ---------- ----------------------------- 2/8 [numpy]\n",
            "   ---------- ----------------------------- 2/8 [numpy]\n",
            "   ---------- ----------------------------- 2/8 [numpy]\n",
            "   ---------- ----------------------------- 2/8 [numpy]\n",
            "   ---------- ----------------------------- 2/8 [numpy]\n",
            "   ---------- ----------------------------- 2/8 [numpy]\n",
            "   ---------- ----------------------------- 2/8 [numpy]\n",
            "   ---------- ----------------------------- 2/8 [numpy]\n",
            "   ---------- ----------------------------- 2/8 [numpy]\n",
            "   ---------- ----------------------------- 2/8 [numpy]\n",
            "   ---------- ----------------------------- 2/8 [numpy]\n",
            "   ---------- ----------------------------- 2/8 [numpy]\n",
            "   ---------- ----------------------------- 2/8 [numpy]\n",
            "   ---------- ----------------------------- 2/8 [numpy]\n",
            "   ---------- ----------------------------- 2/8 [numpy]\n",
            "   ---------- ----------------------------- 2/8 [numpy]\n",
            "   ---------- ----------------------------- 2/8 [numpy]\n",
            "   ---------- ----------------------------- 2/8 [numpy]\n",
            "   ---------- ----------------------------- 2/8 [numpy]\n",
            "   ---------- ----------------------------- 2/8 [numpy]\n",
            "   ---------- ----------------------------- 2/8 [numpy]\n",
            "   ---------- ----------------------------- 2/8 [numpy]\n",
            "   ---------- ----------------------------- 2/8 [numpy]\n",
            "   ---------- ----------------------------- 2/8 [numpy]\n",
            "   ---------- ----------------------------- 2/8 [numpy]\n",
            "   ---------- ----------------------------- 2/8 [numpy]\n",
            "   ---------- ----------------------------- 2/8 [numpy]\n",
            "   ---------- ----------------------------- 2/8 [numpy]\n",
            "   ---------- ----------------------------- 2/8 [numpy]\n",
            "   ---------- ----------------------------- 2/8 [numpy]\n",
            "   ---------- ----------------------------- 2/8 [numpy]\n",
            "   ---------- ----------------------------- 2/8 [numpy]\n",
            "   ---------- ----------------------------- 2/8 [numpy]\n",
            "   ---------- ----------------------------- 2/8 [numpy]\n",
            "   ---------- ----------------------------- 2/8 [numpy]\n",
            "   ---------- ----------------------------- 2/8 [numpy]\n",
            "   ---------- ----------------------------- 2/8 [numpy]\n",
            "   ---------- ----------------------------- 2/8 [numpy]\n",
            "   ---------- ----------------------------- 2/8 [numpy]\n",
            "   ---------- ----------------------------- 2/8 [numpy]\n",
            "   ---------- ----------------------------- 2/8 [numpy]\n",
            "   ---------- ----------------------------- 2/8 [numpy]\n",
            "   ---------- ----------------------------- 2/8 [numpy]\n",
            "   ---------- ----------------------------- 2/8 [numpy]\n",
            "   ---------- ----------------------------- 2/8 [numpy]\n",
            "   ---------- ----------------------------- 2/8 [numpy]\n",
            "   ---------- ----------------------------- 2/8 [numpy]\n",
            "   ---------- ----------------------------- 2/8 [numpy]\n",
            "   ---------- ----------------------------- 2/8 [numpy]\n",
            "   ---------- ----------------------------- 2/8 [numpy]\n",
            "   ---------- ----------------------------- 2/8 [numpy]\n",
            "   ---------- ----------------------------- 2/8 [numpy]\n",
            "   ---------- ----------------------------- 2/8 [numpy]\n",
            "   ---------- ----------------------------- 2/8 [numpy]\n",
            "   -------------------- ------------------- 4/8 [fonttools]\n",
            "   -------------------- ------------------- 4/8 [fonttools]\n",
            "   -------------------- ------------------- 4/8 [fonttools]\n",
            "   -------------------- ------------------- 4/8 [fonttools]\n",
            "   -------------------- ------------------- 4/8 [fonttools]\n",
            "   -------------------- ------------------- 4/8 [fonttools]\n",
            "   -------------------- ------------------- 4/8 [fonttools]\n",
            "   -------------------- ------------------- 4/8 [fonttools]\n",
            "   -------------------- ------------------- 4/8 [fonttools]\n",
            "   -------------------- ------------------- 4/8 [fonttools]\n",
            "   -------------------- ------------------- 4/8 [fonttools]\n",
            "   -------------------- ------------------- 4/8 [fonttools]\n",
            "   -------------------- ------------------- 4/8 [fonttools]\n",
            "   -------------------- ------------------- 4/8 [fonttools]\n",
            "   -------------------- ------------------- 4/8 [fonttools]\n",
            "   -------------------- ------------------- 4/8 [fonttools]\n",
            "   -------------------- ------------------- 4/8 [fonttools]\n",
            "   -------------------- ------------------- 4/8 [fonttools]\n",
            "   -------------------- ------------------- 4/8 [fonttools]\n",
            "   -------------------- ------------------- 4/8 [fonttools]\n",
            "   -------------------- ------------------- 4/8 [fonttools]\n",
            "   -------------------- ------------------- 4/8 [fonttools]\n",
            "   -------------------- ------------------- 4/8 [fonttools]\n",
            "   -------------------- ------------------- 4/8 [fonttools]\n",
            "   -------------------- ------------------- 4/8 [fonttools]\n",
            "   -------------------- ------------------- 4/8 [fonttools]\n",
            "   -------------------- ------------------- 4/8 [fonttools]\n",
            "   -------------------- ------------------- 4/8 [fonttools]\n",
            "   -------------------- ------------------- 4/8 [fonttools]\n",
            "   -------------------- ------------------- 4/8 [fonttools]\n",
            "   -------------------- ------------------- 4/8 [fonttools]\n",
            "   -------------------- ------------------- 4/8 [fonttools]\n",
            "   -------------------- ------------------- 4/8 [fonttools]\n",
            "   -------------------- ------------------- 4/8 [fonttools]\n",
            "   -------------------- ------------------- 4/8 [fonttools]\n",
            "   -------------------- ------------------- 4/8 [fonttools]\n",
            "   -------------------- ------------------- 4/8 [fonttools]\n",
            "   -------------------- ------------------- 4/8 [fonttools]\n",
            "   -------------------- ------------------- 4/8 [fonttools]\n",
            "   -------------------- ------------------- 4/8 [fonttools]\n",
            "   -------------------- ------------------- 4/8 [fonttools]\n",
            "   -------------------- ------------------- 4/8 [fonttools]\n",
            "   -------------------- ------------------- 4/8 [fonttools]\n",
            "   -------------------- ------------------- 4/8 [fonttools]\n",
            "   -------------------- ------------------- 4/8 [fonttools]\n",
            "   -------------------- ------------------- 4/8 [fonttools]\n",
            "   -------------------- ------------------- 4/8 [fonttools]\n",
            "   -------------------- ------------------- 4/8 [fonttools]\n",
            "   -------------------- ------------------- 4/8 [fonttools]\n",
            "   -------------------- ------------------- 4/8 [fonttools]\n",
            "   ------------------------------ --------- 6/8 [contourpy]\n",
            "   ------------------------------ --------- 6/8 [contourpy]\n",
            "   ------------------------------ --------- 6/8 [contourpy]\n",
            "   ----------------------------------- ---- 7/8 [matplotlib]\n",
            "   ----------------------------------- ---- 7/8 [matplotlib]\n",
            "   ----------------------------------- ---- 7/8 [matplotlib]\n",
            "   ----------------------------------- ---- 7/8 [matplotlib]\n",
            "   ----------------------------------- ---- 7/8 [matplotlib]\n",
            "   ----------------------------------- ---- 7/8 [matplotlib]\n",
            "   ----------------------------------- ---- 7/8 [matplotlib]\n",
            "   ----------------------------------- ---- 7/8 [matplotlib]\n",
            "   ----------------------------------- ---- 7/8 [matplotlib]\n",
            "   ----------------------------------- ---- 7/8 [matplotlib]\n",
            "   ----------------------------------- ---- 7/8 [matplotlib]\n",
            "   ----------------------------------- ---- 7/8 [matplotlib]\n",
            "   ----------------------------------- ---- 7/8 [matplotlib]\n",
            "   ----------------------------------- ---- 7/8 [matplotlib]\n",
            "   ----------------------------------- ---- 7/8 [matplotlib]\n",
            "   ----------------------------------- ---- 7/8 [matplotlib]\n",
            "   ----------------------------------- ---- 7/8 [matplotlib]\n",
            "   ----------------------------------- ---- 7/8 [matplotlib]\n",
            "   ----------------------------------- ---- 7/8 [matplotlib]\n",
            "   ----------------------------------- ---- 7/8 [matplotlib]\n",
            "   ----------------------------------- ---- 7/8 [matplotlib]\n",
            "   ----------------------------------- ---- 7/8 [matplotlib]\n",
            "   ----------------------------------- ---- 7/8 [matplotlib]\n",
            "   ----------------------------------- ---- 7/8 [matplotlib]\n",
            "   ----------------------------------- ---- 7/8 [matplotlib]\n",
            "   ----------------------------------- ---- 7/8 [matplotlib]\n",
            "   ----------------------------------- ---- 7/8 [matplotlib]\n",
            "   ----------------------------------- ---- 7/8 [matplotlib]\n",
            "   ----------------------------------- ---- 7/8 [matplotlib]\n",
            "   ----------------------------------- ---- 7/8 [matplotlib]\n",
            "   ----------------------------------- ---- 7/8 [matplotlib]\n",
            "   ----------------------------------- ---- 7/8 [matplotlib]\n",
            "   ----------------------------------- ---- 7/8 [matplotlib]\n",
            "   ----------------------------------- ---- 7/8 [matplotlib]\n",
            "   ----------------------------------- ---- 7/8 [matplotlib]\n",
            "   ----------------------------------- ---- 7/8 [matplotlib]\n",
            "   ----------------------------------- ---- 7/8 [matplotlib]\n",
            "   ----------------------------------- ---- 7/8 [matplotlib]\n",
            "   ----------------------------------- ---- 7/8 [matplotlib]\n",
            "   ----------------------------------- ---- 7/8 [matplotlib]\n",
            "   ----------------------------------- ---- 7/8 [matplotlib]\n",
            "   ----------------------------------- ---- 7/8 [matplotlib]\n",
            "   ----------------------------------- ---- 7/8 [matplotlib]\n",
            "   ----------------------------------- ---- 7/8 [matplotlib]\n",
            "   ----------------------------------- ---- 7/8 [matplotlib]\n",
            "   ----------------------------------- ---- 7/8 [matplotlib]\n",
            "   ----------------------------------- ---- 7/8 [matplotlib]\n",
            "   ----------------------------------- ---- 7/8 [matplotlib]\n",
            "   ----------------------------------- ---- 7/8 [matplotlib]\n",
            "   ----------------------------------- ---- 7/8 [matplotlib]\n",
            "   ----------------------------------- ---- 7/8 [matplotlib]\n",
            "   ----------------------------------- ---- 7/8 [matplotlib]\n",
            "   ---------------------------------------- 8/8 [matplotlib]\n",
            "\n",
            "Successfully installed contourpy-1.3.3 cycler-0.12.1 fonttools-4.59.1 kiwisolver-1.4.9 matplotlib-3.10.5 numpy-2.3.2 pillow-11.3.0 pyparsing-3.2.3\n"
          ]
        },
        {
          "name": "stderr",
          "output_type": "stream",
          "text": [
            "\n",
            "[notice] A new release of pip is available: 25.1.1 -> 25.2\n",
            "[notice] To update, run: python.exe -m pip install --upgrade pip\n"
          ]
        }
      ],
      "source": [
        "! pip install matplotlib\n",
        "! pip install"
      ]
    },
    {
      "cell_type": "code",
      "execution_count": null,
      "id": "bcd1dee6",
      "metadata": {
        "id": "bcd1dee6",
        "outputId": "71adbae2-578b-4145-9c30-3c154800717c"
      },
      "outputs": [
        {
          "ename": "ModuleNotFoundError",
          "evalue": "No module named 'matplotlib'",
          "output_type": "error",
          "traceback": [
            "\u001b[31m---------------------------------------------------------------------------\u001b[39m",
            "\u001b[31mModuleNotFoundError\u001b[39m                       Traceback (most recent call last)",
            "\u001b[36mCell\u001b[39m\u001b[36m \u001b[39m\u001b[32mIn[4]\u001b[39m\u001b[32m, line 1\u001b[39m\n\u001b[32m----> \u001b[39m\u001b[32m1\u001b[39m \u001b[38;5;28;01mimport\u001b[39;00m\u001b[38;5;250m \u001b[39m\u001b[34;01mmatplotlib\u001b[39;00m\u001b[34;01m.\u001b[39;00m\u001b[34;01mpyplot\u001b[39;00m\u001b[38;5;250m \u001b[39m\u001b[38;5;28;01mas\u001b[39;00m\u001b[38;5;250m \u001b[39m\u001b[34;01mplt\u001b[39;00m\n\u001b[32m      2\u001b[39m \u001b[38;5;28;01mimport\u001b[39;00m\u001b[38;5;250m \u001b[39m\u001b[34;01mnumpy\u001b[39;00m\u001b[38;5;250m \u001b[39m\u001b[38;5;28;01mas\u001b[39;00m\u001b[38;5;250m \u001b[39m\u001b[34;01mnp\u001b[39;00m\n\u001b[32m      3\u001b[39m \u001b[38;5;28;01mfrom\u001b[39;00m\u001b[38;5;250m \u001b[39m\u001b[34;01mpyspark\u001b[39;00m\u001b[34;01m.\u001b[39;00m\u001b[34;01msql\u001b[39;00m\u001b[38;5;250m \u001b[39m\u001b[38;5;28;01mimport\u001b[39;00m SparkSession\n",
            "\u001b[31mModuleNotFoundError\u001b[39m: No module named 'matplotlib'"
          ]
        }
      ],
      "source": [
        "import matplotlib.pyplot as plt\n",
        "import numpy as np\n",
        "from pyspark.sql import SparkSession\n",
        "from pyspark.sql.functions import col, split\n",
        "from pyspark.ml.feature import Tokenizer, StopWordsRemover, HashingTF, IDF, StringIndexer\n",
        "from pyspark.ml.classification import LogisticRegression, NaiveBayes\n",
        "from pyspark.ml.evaluation import MulticlassClassificationEvaluator\n",
        "from pyspark.ml import Pipeline\n",
        "from pyspark.sql.functions import expr\n"
      ]
    },
    {
      "cell_type": "markdown",
      "id": "29962340",
      "metadata": {
        "id": "29962340"
      },
      "source": [
        "# Initiate and Configure SparkInitiate and Configure Sparkv"
      ]
    },
    {
      "cell_type": "code",
      "execution_count": null,
      "id": "4eb99d22",
      "metadata": {
        "id": "4eb99d22"
      },
      "outputs": [],
      "source": [
        "# Create Spark session\n",
        "spark = SparkSession.builder.appName('TextClassification').getOrCreate()"
      ]
    },
    {
      "cell_type": "code",
      "execution_count": null,
      "id": "zs0G5zN5-kvF",
      "metadata": {
        "id": "zs0G5zN5-kvF"
      },
      "outputs": [],
      "source": [
        "# Clear all cached DataFrames\n",
        "spark.catalog.clearCache()\n"
      ]
    },
    {
      "cell_type": "markdown",
      "id": "c7765949",
      "metadata": {
        "id": "c7765949"
      },
      "source": [
        "# Data Loading and Preprocessing\n",
        "Dataset Description\n",
        "\n",
        "The data and information that will be used in this research is the Amazon Reviews data which will be accessed publicly on Kaggle. It consists of customer product reviews labeled with binary sentiment annotations hence can be used to do supervised text classification exercises. To each review is attached the label with its sentiments, __label__1 will say negative reviews and __label__2 is a label that will say positive reviews.\n",
        "The information is presented in the FastText format, where, each record is a combination of a label and the textual representation of the review. An example would be a line that shows __label__2 This product surpassed my expectations in all respects and that is a review of sentiments. This data set is split into two subsets namely; training set which consists of 104,537 reviews and test set which consists of 26,135 reviews. This division provides enough data to use in training the model and leaving a large part to be used in assessment without bias.\n",
        "Review samples indicate high diversity in the length of texts, writing styles, and product categories, which creates real practical problems of sentiment analysis. Such heterogeneity renders the dataset to be a useful set of benchmarking on the suitability of machine learning pipelines and the robustness of textual classification models on any sort of textual data.\n",
        "\n",
        "### Contributors:\n",
        "\n",
        "Mohan Sharma\n",
        "\n",
        "Oversaw the sentiment labels extraction of the raw text. Mohan used pyspark scripts where regular expressions to parse FastText labels and made the labels column consistent across the dataset. He ran sanity checks to make sure that every label against their respective reviews as he solidified the data then transmitted it forward to further processing.\n",
        "\n",
        "Utkarsh Rimal\n",
        "\n",
        "Concentrated on the cleanliness of the textual data before the feature extraction. Utkarsh filtered out number or blank reviews, eliminated stop words and changed all writings to lower cases to make it standardized. He justified the wiped DataFrames to make sure that no important information was lost through the preprocessing thus providing quality and noise-free text to train the models.\n",
        "\n",
        "Hemlal Dulal\n",
        "\n",
        "Visualised sample data to evaluate the length of the reviews, the range of their content and distribution of labels. Hemlal generated outputs that indicated possible anomalies and inconsistencies in the raw text, hence giving insights to correct preprocessing. His visualization contributed to the fact that the received dataset was representative and could be a basis of further machine learning activities.\n",
        "\n",
        "Dipak Acharya\n",
        "\n",
        "Helped to add the cleaned source data to the PySpark ML pipeline. Dipak ensured data compatibility data with feature extraction techniques, began to handle the data in a manner that took advantage of proper caching and worked with preparations of the data to use in training the models. His work allowed the easy transition between the preprocessing stage and model implementation."
      ]
    },
    {
      "cell_type": "code",
      "execution_count": null,
      "id": "b52345bc",
      "metadata": {
        "colab": {
          "base_uri": "https://localhost:8080/"
        },
        "id": "b52345bc",
        "outputId": "c160b7ae-51d3-4f1b-d354-919d4ef5e316"
      },
      "outputs": [
        {
          "name": "stdout",
          "output_type": "stream",
          "text": [
            "Train DataFrame Schema:\n",
            "root\n",
            " |-- label: integer (nullable = true)\n",
            " |-- review: string (nullable = true)\n",
            "\n",
            "\n",
            "Sample Train Data:\n",
            "+-----+----------------------------------------------------------------------------------------------------------------------------------------------------------------------------------------------------------------------------------------------------------------------------------------------------------------------------------------------------------------------------------------------------------------------------------------------------------------------------------------------------------------------------------------------------------------------------------------------------------------------------------------------------------------------------------------------------------------------------------------------------------------------------------------+\n",
            "|label|review                                                                                                                                                                                                                                                                                                                                                                                                                                                                                                                                                                                                                                                                                                                                                                                  |\n",
            "+-----+----------------------------------------------------------------------------------------------------------------------------------------------------------------------------------------------------------------------------------------------------------------------------------------------------------------------------------------------------------------------------------------------------------------------------------------------------------------------------------------------------------------------------------------------------------------------------------------------------------------------------------------------------------------------------------------------------------------------------------------------------------------------------------------+\n",
            "|2    |Stuning even for the non-gamer: This sound track was beautiful! It paints the senery in your mind so well I would recomend it even to people who hate vid. game music! I have played the game Chrono Cross but out of all of the games I have ever played it has the best music! It backs away from crude keyboarding and takes a fresher step with grate guitars and soulful orchestras. It would impress anyone who cares to listen! ^_^                                                                                                                                                                                                                                                                                                                                              |\n",
            "|2    |The best soundtrack ever to anything.: I'm reading a lot of reviews saying that this is the best 'game soundtrack' and I figured that I'd write a review to disagree a bit. This in my opinino is Yasunori Mitsuda's ultimate masterpiece. The music is timeless and I'm been listening to it for years now and its beauty simply refuses to fade.The price tag on this is pretty staggering I must say, but if you are going to buy any cd for this much money, this is the only one that I feel would be worth every penny.                                                                                                                                                                                                                                                           |\n",
            "|2    |Amazing!: This soundtrack is my favorite music of all time, hands down. The intense sadness of \"Prisoners of Fate\" (which means all the more if you've played the game) and the hope in \"A Distant Promise\" and \"Girl who Stole the Star\" have been an important inspiration to me personally throughout my teen years. The higher energy tracks like \"Chrono Cross ~ Time's Scar~\", \"Time of the Dreamwatch\", and \"Chronomantique\" (indefinably remeniscent of Chrono Trigger) are all absolutely superb as well.This soundtrack is amazing music, probably the best of this composer's work (I haven't heard the Xenogears soundtrack, so I can't say for sure), and even if you've never played the game, it would be worth twice the price to buy it.I wish I could give it 6 stars.|\n",
            "|2    |Excellent Soundtrack: I truly like this soundtrack and I enjoy video game music. I have played this game and most of the music on here I enjoy and it's truly relaxing and peaceful.On disk one. my favorites are Scars Of Time, Between Life and Death, Forest Of Illusion, Fortress of Ancient Dragons, Lost Fragment, and Drowned Valley.Disk Two: The Draggons, Galdorb - Home, Chronomantique, Prisoners of Fate, Gale, and my girlfriend likes ZelbessDisk Three: The best of the three. Garden Of God, Chronopolis, Fates, Jellyfish sea, Burning Orphange, Dragon's Prayer, Tower Of Stars, Dragon God, and Radical Dreamers - Unstealable Jewel.Overall, this is a excellent soundtrack and should be brought by those that like video game music.Xander Cross                 |\n",
            "|2    |Remember, Pull Your Jaw Off The Floor After Hearing it: If you've played the game, you know how divine the music is! Every single song tells a story of the game, it's that good! The greatest songs are without a doubt, Chrono Cross: Time's Scar, Magical Dreamers: The Wind, The Stars, and the Sea and Radical Dreamers: Unstolen Jewel. (Translation varies) This music is perfect if you ask me, the best it can be. Yasunori Mitsuda just poured his heart on and wrote it down on paper.                                                                                                                                                                                                                                                                                       |\n",
            "+-----+----------------------------------------------------------------------------------------------------------------------------------------------------------------------------------------------------------------------------------------------------------------------------------------------------------------------------------------------------------------------------------------------------------------------------------------------------------------------------------------------------------------------------------------------------------------------------------------------------------------------------------------------------------------------------------------------------------------------------------------------------------------------------------------+\n",
            "only showing top 5 rows\n",
            "\n",
            "\n",
            "Test DataFrame Schema:\n",
            "root\n",
            " |-- label: integer (nullable = true)\n",
            " |-- review: string (nullable = true)\n",
            "\n",
            "\n",
            "Sample Test Data:\n",
            "+-----+------------------------------------------------------------------------------------------------------------------------------------------------------------------------------------------------------------------------------------------------------------------------------------------------------------------------------------------------------------------------------------------------------------------------------------------------------------------------------------------------------------------------------------------------------------------------------------------------------------------------------------------------------------------------------------------------------------------------------------------------------------------------------------------------------------------------------------------------+\n",
            "|label|review                                                                                                                                                                                                                                                                                                                                                                                                                                                                                                                                                                                                                                                                                                                                                                                                                                          |\n",
            "+-----+------------------------------------------------------------------------------------------------------------------------------------------------------------------------------------------------------------------------------------------------------------------------------------------------------------------------------------------------------------------------------------------------------------------------------------------------------------------------------------------------------------------------------------------------------------------------------------------------------------------------------------------------------------------------------------------------------------------------------------------------------------------------------------------------------------------------------------------------+\n",
            "|2    |Great CD: My lovely Pat has one of the GREAT voices of her generation. I have listened to this CD for YEARS and I still LOVE IT. When I'm in a good mood it makes me feel better. A bad mood just evaporates like sugar in the rain. This CD just oozes LIFE. Vocals are jusat STUUNNING and lyrics just kill. One of life's hidden gems. This is a desert isle CD in my book. Why she never made it big is just beyond me. Everytime I play this, no matter black, white, young, old, male, female EVERYBODY says one thing \"Who was that singing ?\"                                                                                                                                                                                                                                                                                           |\n",
            "|2    |One of the best game music soundtracks - for a game I didn't really play: Despite the fact that I have only played a small portion of the game, the music I heard (plus the connection to Chrono Trigger which was great as well) led me to purchase the soundtrack, and it remains one of my favorite albums. There is an incredible mix of fun, epic, and emotional songs. Those sad and beautiful tracks I especially like, as there's not too many of those kinds of songs in my other video game soundtracks. I must admit that one of the songs (Life-A Distant Promise) has brought tears to my eyes on many occasions.My one complaint about this soundtrack is that they use guitar fretting effects in many of the songs, which I find distracting. But even if those weren't included I would still consider the collection worth it.|\n",
            "|1    |Batteries died within a year ...: I bought this charger in Jul 2003 and it worked OK for a while. The design is nice and convenient. However, after about a year, the batteries would not hold a charge. Might as well just get alkaline disposables, or look elsewhere for a charger that comes with batteries that have better staying power.                                                                                                                                                                                                                                                                                                                                                                                                                                                                                                 |\n",
            "|2    |works fine, but Maha Energy is better: Check out Maha Energy's website. Their Powerex MH-C204F charger works in 100 minutes for rapid charge, with option for slower charge (better for batteries). And they have 2200 mAh batteries.                                                                                                                                                                                                                                                                                                                                                                                                                                                                                                                                                                                                           |\n",
            "|2    |Great for the non-audiophile: Reviewed quite a bit of the combo players and was hesitant due to unfavorable reviews and size of machines. I am weaning off my VHS collection, but don't want to replace them with DVD's. This unit is well built, easy to setup and resolution and special effects (no progressive scan for HDTV owners) suitable for many people looking for a versatile product.Cons- No universal remote.                                                                                                                                                                                                                                                                                                                                                                                                                    |\n",
            "+-----+------------------------------------------------------------------------------------------------------------------------------------------------------------------------------------------------------------------------------------------------------------------------------------------------------------------------------------------------------------------------------------------------------------------------------------------------------------------------------------------------------------------------------------------------------------------------------------------------------------------------------------------------------------------------------------------------------------------------------------------------------------------------------------------------------------------------------------------------+\n",
            "only showing top 5 rows\n",
            "\n"
          ]
        }
      ],
      "source": [
        "# Read the train and test files\n",
        "train_df = spark.read.text(\"train.ft.txt\")\n",
        "test_df = spark.read.text(\"test.ft.txt\")\n",
        "\n",
        "# Split the text into label and review\n",
        "from pyspark.sql.functions import when, length, split, col, regexp_extract\n",
        "\n",
        "# Process train data to extract label and review\n",
        "train_df = train_df.select(\n",
        "    regexp_extract(col(\"value\"), r\"__label__(\\d+)\", 1).cast(\"integer\").alias(\"label\"),\n",
        "    regexp_extract(col(\"value\"), r\"__label__\\d+\\s+(.*)\", 1).alias(\"review\")\n",
        ")\n",
        "train_df = train_df.na.drop()  # Remove any rows with null values\n",
        "\n",
        "# Process test data to extract label and review\n",
        "test_df = test_df.select(\n",
        "    regexp_extract(col(\"value\"), r\"__label__(\\d+)\", 1).cast(\"integer\").alias(\"label\"),\n",
        "    regexp_extract(col(\"value\"), r\"__label__\\d+\\s+(.*)\", 1).alias(\"review\")\n",
        ")\n",
        "test_df = test_df.na.drop()  # Remove any rows with null values\n",
        "\n",
        "# Print sample data to verify format\n",
        "print(\"Train DataFrame Schema:\")\n",
        "train_df.printSchema()\n",
        "print(\"\\nSample Train Data:\")\n",
        "train_df.show(5, truncate=False)\n",
        "print(\"\\nTest DataFrame Schema:\")\n",
        "test_df.printSchema()\n",
        "print(\"\\nSample Test Data:\")\n",
        "test_df.show(5, truncate=False)"
      ]
    },
    {
      "cell_type": "code",
      "execution_count": null,
      "id": "42053f76",
      "metadata": {
        "colab": {
          "base_uri": "https://localhost:8080/"
        },
        "id": "42053f76",
        "outputId": "3cf89320-1aee-410d-835b-73335e18d4bb"
      },
      "outputs": [
        {
          "name": "stdout",
          "output_type": "stream",
          "text": [
            "First 5 lines of raw training data:\n",
            "__label__2 Stuning even for the non-gamer: This sound track was beautiful! It paints the senery in your mind so well I would recomend it even to people who hate vid. game music! I have played the game Chrono Cross but out of all of the games I have ever played it has the best music! It backs away from crude keyboarding and takes a fresher step with grate guitars and soulful orchestras. It would impress anyone who cares to listen! ^_^\n",
            "__label__2 The best soundtrack ever to anything.: I'm reading a lot of reviews saying that this is the best 'game soundtrack' and I figured that I'd write a review to disagree a bit. This in my opinino is Yasunori Mitsuda's ultimate masterpiece. The music is timeless and I'm been listening to it for years now and its beauty simply refuses to fade.The price tag on this is pretty staggering I must say, but if you are going to buy any cd for this much money, this is the only one that I feel would be worth every penny.\n",
            "__label__2 Amazing!: This soundtrack is my favorite music of all time, hands down. The intense sadness of \"Prisoners of Fate\" (which means all the more if you've played the game) and the hope in \"A Distant Promise\" and \"Girl who Stole the Star\" have been an important inspiration to me personally throughout my teen years. The higher energy tracks like \"Chrono Cross ~ Time's Scar~\", \"Time of the Dreamwatch\", and \"Chronomantique\" (indefinably remeniscent of Chrono Trigger) are all absolutely superb as well.This soundtrack is amazing music, probably the best of this composer's work (I haven't heard the Xenogears soundtrack, so I can't say for sure), and even if you've never played the game, it would be worth twice the price to buy it.I wish I could give it 6 stars.\n",
            "__label__2 Excellent Soundtrack: I truly like this soundtrack and I enjoy video game music. I have played this game and most of the music on here I enjoy and it's truly relaxing and peaceful.On disk one. my favorites are Scars Of Time, Between Life and Death, Forest Of Illusion, Fortress of Ancient Dragons, Lost Fragment, and Drowned Valley.Disk Two: The Draggons, Galdorb - Home, Chronomantique, Prisoners of Fate, Gale, and my girlfriend likes ZelbessDisk Three: The best of the three. Garden Of God, Chronopolis, Fates, Jellyfish sea, Burning Orphange, Dragon's Prayer, Tower Of Stars, Dragon God, and Radical Dreamers - Unstealable Jewel.Overall, this is a excellent soundtrack and should be brought by those that like video game music.Xander Cross\n",
            "__label__2 Remember, Pull Your Jaw Off The Floor After Hearing it: If you've played the game, you know how divine the music is! Every single song tells a story of the game, it's that good! The greatest songs are without a doubt, Chrono Cross: Time's Scar, Magical Dreamers: The Wind, The Stars, and the Sea and Radical Dreamers: Unstolen Jewel. (Translation varies) This music is perfect if you ask me, the best it can be. Yasunori Mitsuda just poured his heart on and wrote it down on paper.\n"
          ]
        }
      ],
      "source": [
        "# Check raw data format\n",
        "with open(\"train.ft.txt\", \"r\", encoding=\"utf-8\") as f:\n",
        "    print(\"First 5 lines of raw training data:\")\n",
        "    for i, line in enumerate(f):\n",
        "        if i < 5:\n",
        "            print(line.strip())\n",
        "        else:\n",
        "            break"
      ]
    },
    {
      "cell_type": "markdown",
      "id": "4b7ded79",
      "metadata": {
        "id": "4b7ded79"
      },
      "source": [
        "Data Cleaning and Extraction\n",
        "\n",
        "PySpark is used to do data cleaning and extraction using the distributed processing power. Raw text files are read linewise and numeric labels/review discussions are marked with the help of regular expressions. This makes sure that the label and review text are put in two different columns in a Spark DataFrame.\n",
        "Elements of reviews with null or empty values of the text are withdrawn as a way to guarantee quality of data and hence error in training of the model. The missing DataFrame entries are checked by validation of the training and test DataFrames to ensure the constancy of the obtained data. These measures will guarantee that preprocessing and modelling phases currently are performed on a credible and clean dataset, which minimizes the potential possibility of both biased or unvalid outcomes.\n",
        "\n",
        "Text Preprocessing Pipeline\n",
        "\n",
        "The pipeline to preprocess text is used converting raw review words into the numerical representation that can be used by machine learning approach. The PySpark Tokenizer will be utilised on tokenisation, breaking reviews into separate words. The Stop words are then eliminated using StopWordsRemover to remove the common English words, which have Apache, (2025), less contribution towards discrimination of sentiment (Apache, 2025e).\n",
        "CountVectorizer is used to perform feature extraction on the tokenised text and describes Apache, (2025a) word frequencies as numerical vectors. This generates a sparse matrix of high dimensions Apache, (2025b), that work with both Logistic Regression and Naive Bayes classifiers. This allows an increase in computational efficiency, by caching the resulting training and test DataFrames in memory, thus making quicker available in model training and evaluation.\n"
      ]
    },
    {
      "cell_type": "code",
      "execution_count": null,
      "id": "a90a5ca7",
      "metadata": {
        "colab": {
          "base_uri": "https://localhost:8080/"
        },
        "id": "a90a5ca7",
        "outputId": "53d9093f-40b8-4060-c8de-dfe72424b3bf"
      },
      "outputs": [
        {
          "name": "stdout",
          "output_type": "stream",
          "text": [
            "Processing training data...\n",
            "Initial count: 90518\n",
            "After tokenization count: 90518\n",
            "After stopwords removal count: 90518\n",
            "After CountVectorizer transformation count: 90518\n",
            "\n",
            "Processing test data...\n"
          ]
        },
        {
          "data": {
            "text/plain": [
              "DataFrame[label: int, review: string, words: array<string>, filtered_words: array<string>, features: vector]"
            ]
          },
          "execution_count": 8,
          "metadata": {},
          "output_type": "execute_result"
        }
      ],
      "source": [
        "# Create text processing pipeline with error handling\n",
        "from pyspark.sql.functions import udf\n",
        "from pyspark.sql.types import ArrayType, StringType\n",
        "from pyspark.ml.feature import CountVectorizer\n",
        "\n",
        "# Create text processing pipeline\n",
        "tokenizer = Tokenizer(inputCol=\"review\", outputCol=\"words\")\n",
        "remover = StopWordsRemover(inputCol=\"words\", outputCol=\"filtered_words\")\n",
        "# Create CountVectorizer instead of HashingTF and IDF\n",
        "countVectorizer = CountVectorizer(inputCol=\"filtered_words\", outputCol=\"features\", vocabSize=10000)\n",
        "\n",
        "\n",
        "# Process train data with validation checks\n",
        "print(\"Processing training data...\")\n",
        "print(\"Initial count:\", train_df.count())\n",
        "\n",
        "train_df = tokenizer.transform(train_df)\n",
        "print(\"After tokenization count:\", train_df.count())\n",
        "\n",
        "train_df = remover.transform(train_df)\n",
        "print(\"After stopwords removal count:\", train_df.count())\n",
        "\n",
        "# Fit CountVectorizer model\n",
        "cv_model = countVectorizer.fit(train_df)\n",
        "train_df = cv_model.transform(train_df)\n",
        "print(\"After CountVectorizer transformation count:\", train_df.count())\n",
        "\n",
        "# Cache the DataFrame to improve performance\n",
        "train_df.cache()\n",
        "\n",
        "\n",
        "# Process test data\n",
        "print(\"\\nProcessing test data...\")\n",
        "test_df = tokenizer.transform(test_df)\n",
        "test_df = remover.transform(test_df)\n",
        "test_df = cv_model.transform(test_df)\n",
        "\n",
        "# Cache the final DataFrames\n",
        "train_df.cache()\n",
        "test_df.cache()"
      ]
    },
    {
      "cell_type": "markdown",
      "id": "61695fa4",
      "metadata": {
        "id": "61695fa4"
      },
      "source": [
        "# Model Selection and Implementation"
      ]
    },
    {
      "cell_type": "markdown",
      "id": "f66dbfd9",
      "metadata": {
        "id": "f66dbfd9"
      },
      "source": [
        "Logistic Regression is a linear probabilistic classifier which makes predictions concerning the likelihood that the categorical outcome is binary. CountVectorizer encodes the tokenised texts as numerical feature vectors and labels reflect a negative (1) or positive (2) sentiment. This model would be trained on training set, and tested on test set. The metrics of the evaluation comprise accuracy, precision, recall, and F1-score. Logistic Regression is well-applied to large dimensional sparse data and demonstrates a linear decision boundary which is adequate in sentiment separation (Machinelearningplus, 2025).\n",
        "Naive Bayes, known as a probabilistic classifier, that assumes feature independence. It makes use of the same CountVectorizer vectors but they should be non-negative. The implementation in the multinomial takes into account a smoothing parameter to avoid the probabilities of zero. Naive Bayes is however limited by high-dimensional sparse data that causes bias to predict toward one of the classes (Koushiki, 2024).\n",
        "\n",
        "Evaluation Metrics\n",
        "\n",
        "The evaluation is based on the precision, recall, and accuracy along with F1-score. Weighted measures take into consideration class imbalance. Confusion matrices help to get the detailed information about the errors during the classification indicating the true positives, true negatives, false positives, and false negatives. This enables one to have a straightforward comparison between Logistic Regression and Naive Bayes, both in terms of advantages and weaknesses as relates to sentiment analysis (Ayan, 2024).\n",
        "\n",
        "#### Contributors:\n",
        "\n",
        "Dipak Acharya\n",
        "\n",
        "Organized the adoption and adoption of the Logistic Regression model. He employed TF-IDF feature vectors as prepared in preprocessing to train the model, as well as pre-set the model parameters, and made predictions against the test sets. Dipak justified indication metrics those were Accuracy, Precision, Recall, and F1-score besides it assisted the team in translating the outcomes in terms of sentiment categorization.\n",
        "\n",
        "Utkarsh Rimal\n",
        "\n",
        "Conducted the use of the Naive Bayes classifier. He used CountVectorizer features to train the model, fit, and predictions, and high-dimensional and sparse data and the algorithm independence assumptions were also concerned. Utkarsh was able to analyse the poor evaluation measures and proposed enhancements to the preprocessing and features engineering.\n",
        "\n",
        "Mohan Sharma\n",
        "\n",
        "Supervised the coordination of preprocessing with modelling. He saw to it that there was smooth exchange of data in terms of tokenization and removing stop-words, feature extraction and the training of the model. Mohan also debugged pipeline, checked intermediate output and validated that result remains the same when Logistic Regression as well as Naive Bayes models are used (in PySpark MLlib).\n",
        "\n",
        "Hemlal Dulal\n",
        "\n",
        "Guided analysis of model and visualization. He also displayed confusion matrices, visualised measures of performance, and emphasised error types, including the false positive and false negative. Hemlal liaised with Dipak and Utkarsh in data interpretation and supplied information that was used in guiding practical suggestions and comparative study on the two models.\n"
      ]
    },
    {
      "cell_type": "code",
      "execution_count": null,
      "id": "6239d78c",
      "metadata": {
        "id": "6239d78c"
      },
      "outputs": [],
      "source": [
        "# Train Logistic Regression model\n",
        "lr = LogisticRegression(featuresCol=\"features\", labelCol=\"label\")\n",
        "lr_model = lr.fit(train_df)\n",
        "\n",
        "# Make predictions on test data\n",
        "lr_predictions = lr_model.transform(test_df)\n",
        "\n",
        "# Evaluate Logistic Regression model\n",
        "evaluator = MulticlassClassificationEvaluator(labelCol=\"label\", predictionCol=\"prediction\")\n",
        "\n",
        "lr_accuracy = evaluator.setMetricName(\"accuracy\").evaluate(lr_predictions)\n",
        "lr_precision = evaluator.setMetricName(\"weightedPrecision\").evaluate(lr_predictions)\n",
        "lr_recall = evaluator.setMetricName(\"weightedRecall\").evaluate(lr_predictions)\n",
        "lr_f1 = evaluator.setMetricName(\"f1\").evaluate(lr_predictions)\n",
        "\n"
      ]
    },
    {
      "cell_type": "markdown",
      "id": "c9aea6ea",
      "metadata": {
        "id": "c9aea6ea"
      },
      "source": [
        "Logistic Regression Performance\n",
        "\n",
        "The Logistic Regression model showed high results in the test data with an accuracy rate of 0.8519, a precision rate of 0.8520, recall rate of 0.8519 and F1 score value of 0.8519. These findings show that the model shows consistency in differentiating the positive and negative reviews.\n",
        "What can be gained is the confusion matrix: with 47,250 actual negative reviews, 39,692 were correctly categorised, and 7,558 incorrectly categorised as positive. In the case of positive reviews 41,886 of 48,509 were classified correctly whereas there were 6,623 that were classified as negative reviews. This provides an equal performance between the two classes with true positive rate of 0.864 and true negative rate of 0.839.\n",
        "Error analysis shows that false positives are usually reviews that have mixed sentiments or have negative cues that are just nuanced whereas false negatives usually contain reviews that have nuanced positive cues or rather domain-specific language. The probabilistic nature of the features in the model is in a position to process high dimension sparse characteristics of Count and identifying extent features of Vectorizer, with consistent classifications throughout the pool.\n"
      ]
    },
    {
      "cell_type": "code",
      "execution_count": null,
      "id": "acb7bf13",
      "metadata": {
        "id": "acb7bf13"
      },
      "outputs": [],
      "source": [
        "# Train Naive Bayes model\n",
        "nb = NaiveBayes(featuresCol=\"features\", labelCol=\"label\")\n",
        "nb_model = nb.fit(train_df)\n",
        "\n",
        "# Make predictions on test data\n",
        "nb_predictions = nb_model.transform(test_df)\n",
        "\n",
        "# Evaluate Naive Bayes model\n",
        "evaluator = MulticlassClassificationEvaluator(labelCol=\"label\", predictionCol=\"prediction\")\n",
        "\n",
        "nb_accuracy = evaluator.setMetricName(\"accuracy\").evaluate(nb_predictions)\n",
        "nb_precision = evaluator.setMetricName(\"weightedPrecision\").evaluate(nb_predictions)\n",
        "nb_recall = evaluator.setMetricName(\"weightedRecall\").evaluate(nb_predictions)\n",
        "nb_f1 = evaluator.setMetricName(\"f1\").evaluate(nb_predictions)\n",
        "\n"
      ]
    },
    {
      "cell_type": "markdown",
      "id": "767a7a19",
      "metadata": {
        "id": "767a7a19"
      },
      "source": [
        "Naive Bayes Performance\n",
        "\n",
        "On the contrary, the Naive Bayes performed dismally, giving an accuracy, precision, recall and F1-score of 0.0776, 0.0753, 0.0776 and 0.0765 respectively. In the confusion matrix, there is a large bias in one class, meaning that predictions were wrong in most cases.\n",
        "There are a number of factors that can explain this under performance. CountVectorizer or TF-IDF feature vectors can break the independence assumption needed by Naive Bayes and the sparse vectors in high dimensions exacerbates this problem. Also, CountVectorizer creates non-and negatively based features which are not compatible with the multinomial Naive Bayes assumptions and thus the single-class model is favoured by the model.\n"
      ]
    },
    {
      "cell_type": "markdown",
      "id": "83b89f84",
      "metadata": {
        "id": "83b89f84"
      },
      "source": [
        "# Model Evaluation and Accuracy Calculation"
      ]
    },
    {
      "cell_type": "markdown",
      "id": "72a001ca",
      "metadata": {
        "id": "72a001ca"
      },
      "source": [
        "The Evaluation step consisted of calculating the standard classification metrics of both the Logistic Regression and Naive Bayes models. The accuracy, precision, recall, and F1-score were determined in PySpark by using MulticlassClassificationEvaluator. Confusion matrices were also created so as to bring about an in-depth analysis of true positives, true negatives, false positives and false negatives of the models. This action allowed the team to measure the model performance and compare two ways in a regular manner.\n",
        "\n",
        "### Contributors:\n",
        "Mohan Sharma\n",
        "\n",
        "Headed the analysis of the Logistic Regression model. Mohan used the PySpark programs to compute Accuracy, Precision, Recall and F1-score. He was checking what had been calculated as metrics and output was compared. Also, he has given an elaborate account of the performance of Logistic Regression in the large-scale Amazon Reviews dataset, by deciding on the reliability of the model along with classification strengths.\n",
        "\n",
        "Dipak Acharya\n",
        "\n",
        "In charge of the examination of the Naive Bayes model. Dipak calculated the identical metrics with PySpark and paid attention to overcoming such challenges as the sparse features produced by CountVectorizer. He tested this feature on Naive Bayes poor performance by finding out contributory factors, which include feature sparsity and independence assumptions that facilitated the comparative analysis by the team on the two models.\n",
        "\n",
        "Hemlal Dulal\n",
        "\n",
        "Coordinated the construction and analysis of confusion matrices of the two models. Hemlal visualized misclassification patterns, analysed false positives and false negatives, and included deep analytical insights regarding the behaviour of the model. These observations helped the team learn the mistakes of classification and make suggestions concerning practical implementation.\n",
        "\n",
        "Utkarsh Rimal\n",
        "\n",
        "Aided the calculation and verification of metrics of both models. Utkarsh compared assessment scripts, made sure the performance indicators were consistent across the scoring, and cooperated in discussing inconsistency in outputs. His work led to preserving the precision and the trustworthiness of the analysis procedure throughout the data set."
      ]
    },
    {
      "cell_type": "code",
      "execution_count": null,
      "id": "46eafb2f",
      "metadata": {
        "id": "46eafb2f"
      },
      "outputs": [],
      "source": [
        "# Logistic Regression Evaluation\n",
        "print(\"Logistic Regression Results:\")\n",
        "print(f\"Accuracy: {lr_accuracy:.4f}\")\n",
        "print(f\"Precision: {lr_precision:.4f}\")\n",
        "print(f\"Recall: {lr_recall:.4f}\")\n",
        "print(f\"F1 Score: {lr_f1:.4f}\")\n",
        "\n",
        "# Naive Bayes Evaluation\n",
        "print(\"Naive Bayes Results (with CountVectorizer):\")\n",
        "print(f\"Accuracy: {nb_accuracy:.4f}\")\n",
        "print(f\"Precision: {nb_precision:.4f}\")\n",
        "print(f\"Recall: {nb_recall:.4f}\")\n",
        "print(f\"F1 Score: {nb_f1:.4f}\")\n",
        "\n",
        "# Display confusion matrices\n",
        "def display_confusion_matrix(predictions, model_name):\n",
        "    confusion_matrix = predictions.groupBy(\"label\", \"prediction\").count().orderBy(\"label\", \"prediction\")\n",
        "    print(f\"\\nConfusion Matrix for {model_name}:\")\n",
        "    confusion_matrix.show()\n",
        "\n",
        "# Display confusion matrices for both models\n",
        "display_confusion_matrix(lr_predictions, \"Logistic Regression\")\n",
        "display_confusion_matrix(nb_predictions, \"Naive Bayes\")"
      ]
    },
    {
      "cell_type": "markdown",
      "id": "f28894d8",
      "metadata": {
        "id": "f28894d8"
      },
      "source": [
        "# Results Visualization\n",
        "\n",
        "In comparing the two models, the Logistic Regression obviously excels well over the Naive Bayes under all the evaluation indices. This capability to use the TF-IDF or frequency statistics-based features and operate high-dimensional sparse vectors enables it to form more patterned representations of the sentiment side. Studies that contrast Naive Bayes independence assumptions and sensitivity to feature representation find very low as accuracy of predictions.\n",
        "In the same sentiment analysis task, Logistic Regression is advised especially in CountVectorizer or TF-IDF features since it offers answer results on a probabilistic manner and balanced classification besides scale-ability in distributed environment such as PySpark. Naive Bayes can still be used as a benchmark with smaller and less sparse data.\n",
        "\n",
        "Hemlal Dulal\n",
        "\n",
        "Plotted bar graphs and graphical displays statistics of model assessment. Hemlal displayed Accuracy, Precision, Recall and F1-score of both the Logistic Regression and Naive Bayes so that the team could compare the model performance in a snap. His plots brought out performance patterns and were used to base on the discussion of the models selection and its practical consequences.\n",
        "\n",
        "Utkarsh Rimal\n",
        "\n",
        "Came up with comparative tables of evaluation measurements of the two models. Utkarsh aligned metrics in rows and it was easy to see performance differences. His tables were properly labelled, easy to read, and could be included in the report and presentation to ensure that the stakeholders grasped the performance of the models within a short time.\n",
        "\n",
        "Mohan Sharma\n",
        "\n",
        "Was responsible in displaying and performing analysis of confusion matrices of the two models. Mohan used true positive, true negative, false positive and false negative counts, and depicted them using a clear tabulated format. This visualisation helped the team to understand its weak areas and could discuss strengths and weaknesses of models.\n",
        "\n",
        "Dipak Acharya\n",
        "\n",
        "Helped to unite visualization results and confirm that the metrics were the same betweenicle and table. Dipak made sure that every visualization is relevant to the underlying data used to perform the evaluations, looked into it in relation to the calculations made to assess the metrics, and would use the team to analyze findings, which would be reflected in the report and presentation."
      ]
    },
    {
      "cell_type": "code",
      "execution_count": null,
      "id": "4feef4fb",
      "metadata": {
        "colab": {
          "base_uri": "https://localhost:8080/",
          "height": 834
        },
        "id": "4feef4fb",
        "outputId": "9c29810f-4394-438b-817f-a06f23f0727b"
      },
      "outputs": [
        {
          "name": "stdout",
          "output_type": "stream",
          "text": [
            "\n",
            "Confusion Matrix for Logistic Regression:\n",
            "+-----+----------+-----+\n",
            "|label|prediction|count|\n",
            "+-----+----------+-----+\n",
            "|    1|       1.0|39692|\n",
            "|    1|       2.0| 7558|\n",
            "|    2|       1.0| 6623|\n",
            "|    2|       2.0|41886|\n",
            "+-----+----------+-----+\n",
            "\n",
            "\n",
            "Confusion Matrix for Naive Bayes:\n",
            "+-----+----------+-----+\n",
            "|label|prediction|count|\n",
            "+-----+----------+-----+\n",
            "|    1|       0.0|39816|\n",
            "|    1|       1.0| 7434|\n",
            "|    2|       0.0| 7245|\n",
            "|    2|       1.0|41264|\n",
            "+-----+----------+-----+\n",
            "\n"
          ]
        },
        {
          "data": {
            "image/png": "[encoded data removed]",
            "text/plain": [
              "<Figure size 640x480 with 1 Axes>"
            ]
          },
          "metadata": {},
          "output_type": "display_data"
        }
      ],
      "source": [
        "metrics = ['Accuracy', 'Precision', 'Recall', 'F1 Score']\n",
        "lr_scores = [lr_accuracy, lr_precision, lr_recall, lr_f1]\n",
        "nb_scores = [nb_accuracy, nb_precision, nb_recall, nb_f1]\n",
        "\n",
        "x = range(len(metrics))\n",
        "\n",
        "plt.bar([i - 0.2 for i in x], lr_scores, width=0.4, label='Logistic Regression')\n",
        "plt.bar([i + 0.2 for i in x], nb_scores, width=0.4, label='Naive Bayes')\n",
        "\n",
        "# Display confusion matrices\n",
        "def display_confusion_matrix(predictions, model_name):\n",
        "    confusion_matrix = predictions.groupBy(\"label\", \"prediction\").count().orderBy(\"label\", \"prediction\")\n",
        "    print(f\"\\nConfusion Matrix for {model_name}:\")\n",
        "    confusion_matrix.show()\n",
        "\n",
        "# Display confusion matrices for both models\n",
        "display_confusion_matrix(lr_predictions, \"Logistic Regression\")\n",
        "display_confusion_matrix(nb_predictions, \"Naive Bayes\")\n",
        "# Plot Model Comparision\n",
        "plt.xticks(x, metrics)\n",
        "plt.ylabel('Score')\n",
        "plt.title('Comparison of Model Performance')\n",
        "plt.legend()\n",
        "plt.show()"
      ]
    },
    {
      "cell_type": "markdown",
      "id": "e8e2169b",
      "metadata": {
        "id": "e8e2169b"
      },
      "source": [
        "Comparative Analysis\n",
        "\n",
        "In comparing the two models, the Logistic Regression obviously excels well over the Naive Bayes under all the evaluation indices. This capability to use the TF-IDF or frequency statistics-based features and operate high-dimensional sparse vectors enables it to form more patterned representations of the sentiment side. Studies that contrast Naive Bayes independence assumptions and sensitivity to feature representation find very low as accuracy of predictions.\n",
        "In the same sentiment analysis task, Logistic Regression is advised especially in CountVectorizer or TF-IDF features since it offers answer results on a probabilistic manner and balanced classification besides scale-ability in distributed environment such as PySpark. Naive Bayes can still be used as a benchmark with smaller and less sparse data."
      ]
    },
    {
      "cell_type": "markdown",
      "id": "d88bb7a2",
      "metadata": {
        "id": "d88bb7a2"
      },
      "source": [
        "# Discussion\n",
        "Insights from Logistic Regression\n",
        "\n",
        "The Logistic Regression model was performing well in the Amazon Reviews with an accuracy of 0.8519, precision of 0.8520, recall of 0.8519, and an F1 score of 0.8519. The presentation of confusion suggests that the classification is balanced between negative and positive reviews with 39, 692 true negative and 41, 886 true positive. CountVectorizer produced high-dimensional sparse feature vectors, which the model was able to handle well, affirming that it is usable with TF-IDF-like representations. In addition to that, the framework pySpark allowed efficient use of distributed processing to train on large text data, showing the scalability benefits of this option. Error analysis shows that there was a general balance between false positives and false negatives and this was largely because of mixed sentiments, as well as context dependent expressions in reviews (Editorial Team, 2021).\n",
        "\n",
        "Insights from Naive Bayes\n",
        "\n",
        "Naive Bayes showed a poor score, having an accuracy of 0.0776, precision of 0.0753, recall of 0.0776 with F1 score of 0.0765. The confusion matrix reveals a tendency of one label which is a rather big bias and most of the reviews are predicted incorrectly. This result substantiates the idea that the algorithm is sensitive to feature sparseness and TF-IDF values which is against the assumptions that bear the independence expectations of Naive Bayes. The findings also note the effectiveness of proper consideration of features and preprocessing techniques to fit the probabilistic classifiers on high dimensional text data (Dataquest, 2024).\n",
        "\n",
        "Practical Recommendations\n",
        "\n",
        "In the case of large-scale sentiment analysis with TF-IDF features, Logistic Regression will be suggested because it is both stable and has scalable performance. Naive Bayes might need some other feature transformation, e.g. raw word counts, and parameter tuning in order to deliver reliable performance. The findings inform how machine learning models can be efficiently deployed on large text based datasets and they must be able to make accurate predictions\n"
      ]
    },
    {
      "cell_type": "markdown",
      "id": "211bbd6b",
      "metadata": {
        "id": "211bbd6b"
      },
      "source": [
        "# LSEP Considerations\n",
        "\n",
        "Mohan Sharma\n",
        "\n",
        "Scalability of the PySpark pipeline was reviewed. Mohan examined the preprocessing, feature extraction, and model training processes to make sure that they are able to deal with millions of Amazon reviews in an efficient way. He proposed methods of allocating work to nodes of a cluster, optimizing Spark tasks and sustaining speed as the job grows. His work also made sure that the project was able to process big data with reliability through the use of distributed computing\n",
        "\n",
        "Utkarsh Rimal\n",
        "\n",
        "Did optimization on the memory allocation and caching in the pipeline. Utkarsh introduced caching of intermediate DataFrames to eliminate the need to recalculate, assumed possible memory bottlenecks of large-dimensional feature vectors, and suggested options of resource distribution. His work enhanced runtime of systems and also made it possible to process large datasets without misusing memory.\n",
        "\n",
        "Dipak Acharya\n",
        "\n",
        "Manipulated parallel computation and optimizing performance. Dipak used logistic regression and naive bayes training in the framework of PySpark to test timing, optimize vectorization in this process, and also proposed methods to enhance the throughput. His work shortened training time of model and increased efficiency of model on large data.\n",
        "\n",
        "Hemlal Dulal\n",
        "\n",
        "Tracked pipeline performance and ensured attainment of scaled improvement. Hemal has experimented with the use of caching and parallelization techniques, has determined the end to end execution time, and has monitored the conversion of optimization into reality. His advances offered practical insights into the maintenance of big-data-processing performance and reliability."
      ]
    },
    {
      "cell_type": "markdown",
      "id": "57ed5f79",
      "metadata": {
        "id": "57ed5f79"
      },
      "source": [
        "# Reference\n",
        "\n",
        "Apache (2025a) ‘CountVectorizer’. Available at: https://spark.apache.org/docs/latest/api/python/reference/api/pyspark.ml.feature.CountVectorizer.html.\n",
        "Apache (2025b) ‘Feature Extraction and Transformation - RDD-based API’. Available at: https://spark.apache.org/docs/latest/mllib-feature-extraction.html.\n",
        "Apache (2025c) ‘Machine Learning Library (MLlib) Guide’. Available at: https://spark.apache.org/docs/latest/ml-guide.html.\n",
        "Apache (2025d) ‘StopWordsRemover’. Available at: https://spark.apache.org/docs/latest/api/python/reference/api/pyspark.ml.feature.StopWordsRemover.html.\n",
        "Apache (2025e) ‘Tokenizer’. Available at: https://spark.apache.org/docs/latest/api/python/reference/api/pyspark.ml.feature.Tokenizer.html.\n",
        "Awan, A.A. and Navlani, A. (2023) ‘Naive Bayes Classification Tutorial using Scikit-learn’. Available at: https://www.datacamp.com/tutorial/naive-bayes-scikit-learn.\n",
        "Ayan, D. (2024) ‘Evaluating Binary Classification Models with PySpark’. Available at: https://medium.com/@demrahayan/evaluating-binary-classification-models-with-pyspark-2afc5ac7937f.\n",
        "Dataquest (2024) ‘Sentiment Analysis with Naive Bayes’. Available at: https://www.dataquest.io/blog/naive-bayes-tutorial/.\n",
        "Editorial Team (2021) ‘Sentiment Analysis with Logistic Regression’. Available at: https://towardsai.net/p/nlp/sentiment-analysis-with-logistic-regression.\n",
        "Govindaraj, P. (2024) ‘Implementing TF-IDF with Spark and Amazon EMR’. Available at: https://medium.com/@govindarajpriyanthan/implementing-tf-idf-with-spark-and-amazon-emr-93d0f776b646.\n",
        "Kim, R. (2018) ‘Sentiment Analysis with PySpark’. Available at: https://medium.com/data-science/sentiment-analysis-with-pyspark-bc8e83f80c35.\n",
        "Koushiki (2024) ‘Building Naive Bayes Classifier from Scratch to Perform Sentiment Analysis’. Available at: https://www.analyticsvidhya.com/blog/2022/03/building-naive-bayes-classifier-from-scratch-to-perform-sentiment-analysis/.\n",
        "Machinelearningplus (2025) ‘PySpark Logistic Regression – How to Build and Evaluate Logistic Regression Models using PySpark MLlib’. Available at: www.machinelearningplus.com/pyspark/pyspark-logistic-regression/.\n",
        "Ribeiro, F.N. et al. (2016) ‘SentiBench - a benchmark comparison of state-of-the-practice sentiment analysis methods’. Available at: https://arxiv.org/abs/1512.01818.\n",
        "Thakur, P. (2022) ‘Sentiment Analysis with Naive Bayes Classifier | NLTK | Python Code | Machine Learning’. Available at: https://medium.com/@preethithakur/undesrtand-naive-bayes-algorithm-in-simple-explanation-with-python-code-part-2-a2b91cbbf637.\n",
        "W3schools (2025) ‘Machine Learning - Logistic Regression’. Available at: https://www.w3schools.com/python/python_ml_logistic_regression.asp.\n",
        "\n"
      ]
    }
  ],
  "metadata": {
    "colab": {
      "provenance": [],
      "include_colab_link": true
    },
    "kernelspec": {
      "display_name": "Python 3",
      "language": "python",
      "name": "python3"
    },
    "language_info": {
      "codemirror_mode": {
        "name": "ipython",
        "version": 3
      },
      "file_extension": ".py",
      "mimetype": "text/x-python",
      "name": "python",
      "nbconvert_exporter": "python",
      "pygments_lexer": "ipython3",
      "version": "3.13.5"
    }
  },
  "nbformat": 4,
  "nbformat_minor": 5
}